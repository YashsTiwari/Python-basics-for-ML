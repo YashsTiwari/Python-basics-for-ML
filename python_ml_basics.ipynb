{
 "cells": [
  {
   "cell_type": "markdown",
   "id": "37b39334-aa53-44e7-94f3-4d55a6ad4f3d",
   "metadata": {},
   "source": [
    "# Python basics"
   ]
  },
  {
   "cell_type": "code",
   "execution_count": 134,
   "id": "e53fe6e0-79d8-4ea7-940a-8da3e7f86353",
   "metadata": {},
   "outputs": [
    {
     "name": "stdout",
     "output_type": "stream",
     "text": [
      "3\n"
     ]
    }
   ],
   "source": [
    "print(1+2)"
   ]
  },
  {
   "cell_type": "code",
   "execution_count": 135,
   "id": "2caa6859-5cc9-4d40-b19d-bc4f745e2960",
   "metadata": {},
   "outputs": [
    {
     "name": "stdout",
     "output_type": "stream",
     "text": [
      "hello\n"
     ]
    }
   ],
   "source": [
    "print(\"hello\")"
   ]
  },
  {
   "cell_type": "code",
   "execution_count": 136,
   "id": "5f83e5fd-8f5e-4857-a2de-de8e8f9a7269",
   "metadata": {},
   "outputs": [],
   "source": [
    "first_name=\"Y\"\n",
    "last_name=\"T\""
   ]
  },
  {
   "cell_type": "code",
   "execution_count": 137,
   "id": "822d6bcf-0de0-4760-9351-c0fadb35a167",
   "metadata": {},
   "outputs": [
    {
     "name": "stdout",
     "output_type": "stream",
     "text": [
      "first name is Y and last name is T\n"
     ]
    }
   ],
   "source": [
    "print(\"first name is {} and last name is {}\".format(first_name,last_name))"
   ]
  },
  {
   "cell_type": "code",
   "execution_count": 18,
   "id": "70568180-5a5f-4e56-8f05-b4ef127e8d26",
   "metadata": {},
   "outputs": [
    {
     "name": "stdout",
     "output_type": "stream",
     "text": [
      "last name is T and first name is Y\n"
     ]
    }
   ],
   "source": [
    "print(\"last name is {last} and first name is {first}\".format(first=first_name,last=last_name))"
   ]
  },
  {
   "cell_type": "code",
   "execution_count": 15,
   "id": "1dac28d0-c01e-4497-b01c-9787d111766f",
   "metadata": {},
   "outputs": [
    {
     "data": {
      "text/plain": [
       "int"
      ]
     },
     "execution_count": 15,
     "metadata": {},
     "output_type": "execute_result"
    }
   ],
   "source": [
    "type(1)"
   ]
  },
  {
   "cell_type": "markdown",
   "id": "98ef247b-bdbc-423a-9d6c-e114c208c778",
   "metadata": {},
   "source": [
    "## Data types"
   ]
  },
  {
   "cell_type": "code",
   "execution_count": 20,
   "id": "2c3f0946-1418-40b9-af8e-46b0a61dbf11",
   "metadata": {},
   "outputs": [],
   "source": [
    "str1=\"Apple\""
   ]
  },
  {
   "cell_type": "code",
   "execution_count": 21,
   "id": "d4cf8ada-581d-4b4b-ade3-208f125faa26",
   "metadata": {},
   "outputs": [
    {
     "name": "stdout",
     "output_type": "stream",
     "text": [
      "False\n"
     ]
    }
   ],
   "source": [
    "print(str1.endswith('E'))"
   ]
  },
  {
   "cell_type": "code",
   "execution_count": 22,
   "id": "fb4d2e82-c607-43b7-9189-e505aabe0748",
   "metadata": {},
   "outputs": [
    {
     "name": "stdout",
     "output_type": "stream",
     "text": [
      "True\n"
     ]
    }
   ],
   "source": [
    "print(str1.endswith('e'))"
   ]
  },
  {
   "cell_type": "markdown",
   "id": "ced05db5-76b5-4992-ba0e-f9e7f1ee2ce0",
   "metadata": {},
   "source": [
    "- Sets"
   ]
  },
  {
   "cell_type": "code",
   "execution_count": 25,
   "id": "a37d0595-7473-48af-bb67-681f2df4e420",
   "metadata": {},
   "outputs": [
    {
     "name": "stdout",
     "output_type": "stream",
     "text": [
      "<class 'set'>\n"
     ]
    }
   ],
   "source": [
    "set_var=set()\n",
    "print(type(set_var))"
   ]
  },
  {
   "cell_type": "code",
   "execution_count": 26,
   "id": "6d6727cf-fc60-48a4-a436-047d6af9529b",
   "metadata": {},
   "outputs": [
    {
     "name": "stdout",
     "output_type": "stream",
     "text": [
      "{1, 2, 3, 4, 5}\n"
     ]
    }
   ],
   "source": [
    "set_var={1,1,2,3,2,3,4,5}\n",
    "print(set_var)"
   ]
  },
  {
   "cell_type": "code",
   "execution_count": 31,
   "id": "d8586973-dd0e-4891-b690-ca2650824e42",
   "metadata": {},
   "outputs": [
    {
     "data": {
      "text/plain": [
       "{1, 2, 3, 4, 5}"
      ]
     },
     "execution_count": 31,
     "metadata": {},
     "output_type": "execute_result"
    }
   ],
   "source": [
    "set_var"
   ]
  },
  {
   "cell_type": "code",
   "execution_count": 33,
   "id": "2f52db25-fef1-444c-a6a2-8d1babe57643",
   "metadata": {},
   "outputs": [
    {
     "data": {
      "text/plain": [
       "{'A': 1, 'B': 2}"
      ]
     },
     "execution_count": 33,
     "metadata": {},
     "output_type": "execute_result"
    }
   ],
   "source": [
    "dict={\"A\":1,\"B\":2}\n",
    "dict"
   ]
  },
  {
   "cell_type": "code",
   "execution_count": 41,
   "id": "d95575b9-35fd-41b3-82ba-73857c6a3122",
   "metadata": {},
   "outputs": [
    {
     "name": "stdout",
     "output_type": "stream",
     "text": [
      "<class 'dict'>\n",
      "<class 'set'>\n",
      "<class 'tuple'>\n"
     ]
    }
   ],
   "source": [
    "a={}\n",
    "b=set()\n",
    "c=()\n",
    "print(type(a))\n",
    "print(type(b))\n",
    "print(type(c))"
   ]
  },
  {
   "cell_type": "code",
   "execution_count": 43,
   "id": "43c0cee3-58ff-40d4-ab41-ac7ab75998e3",
   "metadata": {},
   "outputs": [
    {
     "name": "stdout",
     "output_type": "stream",
     "text": [
      "1\n"
     ]
    }
   ],
   "source": [
    "print(dict['A'])"
   ]
  },
  {
   "cell_type": "code",
   "execution_count": 44,
   "id": "aebdfba7-2035-4a8b-889b-0bf570413f87",
   "metadata": {},
   "outputs": [
    {
     "name": "stdout",
     "output_type": "stream",
     "text": [
      "A\n",
      "B\n"
     ]
    }
   ],
   "source": [
    "for x in dict:\n",
    "    print(x)"
   ]
  },
  {
   "cell_type": "code",
   "execution_count": 48,
   "id": "d2b111c5-4aa7-4317-8bf3-8b04dcc0253e",
   "metadata": {},
   "outputs": [
    {
     "name": "stdout",
     "output_type": "stream",
     "text": [
      "1\n",
      "2\n"
     ]
    }
   ],
   "source": [
    "for v in dict.values():\n",
    "    print(v)"
   ]
  },
  {
   "cell_type": "code",
   "execution_count": 49,
   "id": "ace7b277-b4b8-4ade-9d73-866e18423f55",
   "metadata": {},
   "outputs": [
    {
     "name": "stdout",
     "output_type": "stream",
     "text": [
      "('A', 1)\n",
      "('B', 2)\n"
     ]
    }
   ],
   "source": [
    "for i in dict.items():\n",
    "    print(i)"
   ]
  },
  {
   "cell_type": "code",
   "execution_count": 61,
   "id": "fd70a5f4-516a-4f36-ac36-ceab28c2b9dc",
   "metadata": {},
   "outputs": [
    {
     "name": "stdout",
     "output_type": "stream",
     "text": [
      "dict_items([('A', 1), ('B', 2)])\n"
     ]
    }
   ],
   "source": [
    "print(dict.items())"
   ]
  },
  {
   "cell_type": "markdown",
   "id": "600a3cec-6924-48cf-85af-4008796de56b",
   "metadata": {},
   "source": [
    "## Numpy"
   ]
  },
  {
   "cell_type": "code",
   "execution_count": 4,
   "id": "73f27c93-81d6-45d8-8ace-42e1db59c0cf",
   "metadata": {},
   "outputs": [],
   "source": [
    "import numpy as np"
   ]
  },
  {
   "cell_type": "code",
   "execution_count": 64,
   "id": "a13cfcec-2f2a-480b-86c8-f6748cd41cb5",
   "metadata": {},
   "outputs": [],
   "source": [
    "my_lst=[1,2,3,4,5]"
   ]
  },
  {
   "cell_type": "code",
   "execution_count": 65,
   "id": "179b86d1-d917-4792-837e-83b9240206a4",
   "metadata": {},
   "outputs": [
    {
     "data": {
      "text/plain": [
       "list"
      ]
     },
     "execution_count": 65,
     "metadata": {},
     "output_type": "execute_result"
    }
   ],
   "source": [
    "type(my_lst)"
   ]
  },
  {
   "cell_type": "code",
   "execution_count": 66,
   "id": "635996de-0c7d-47b0-ab24-5e398be1041d",
   "metadata": {},
   "outputs": [],
   "source": [
    "arr=np.array(my_lst)"
   ]
  },
  {
   "cell_type": "code",
   "execution_count": 67,
   "id": "86f31464-9a29-4eda-b969-9f4d940fcebf",
   "metadata": {},
   "outputs": [
    {
     "data": {
      "text/plain": [
       "numpy.ndarray"
      ]
     },
     "execution_count": 67,
     "metadata": {},
     "output_type": "execute_result"
    }
   ],
   "source": [
    "type(arr)"
   ]
  },
  {
   "cell_type": "code",
   "execution_count": 119,
   "id": "f91eaaac-4d61-4c20-94f1-d014018032d3",
   "metadata": {},
   "outputs": [],
   "source": [
    "lst1=[1,2,3,4,5]\n",
    "lst2=[2,3,4,5,6]\n",
    "lst3=[9,7,6,8,9]\n",
    "arr=np.array([lst1,lst2,lst3])"
   ]
  },
  {
   "cell_type": "code",
   "execution_count": 73,
   "id": "f37b0d18-58c2-447c-9ca8-1e2fc7f9102d",
   "metadata": {},
   "outputs": [
    {
     "data": {
      "text/plain": [
       "array([[1, 2, 3, 4, 5],\n",
       "       [2, 3, 4, 5, 6],\n",
       "       [9, 7, 6, 8, 9]])"
      ]
     },
     "execution_count": 73,
     "metadata": {},
     "output_type": "execute_result"
    }
   ],
   "source": [
    "arr"
   ]
  },
  {
   "cell_type": "code",
   "execution_count": 74,
   "id": "e08abecb-9da6-45ac-a96e-ddbc53a36219",
   "metadata": {},
   "outputs": [
    {
     "data": {
      "text/plain": [
       "array([[4, 5, 6]])"
      ]
     },
     "execution_count": 74,
     "metadata": {},
     "output_type": "execute_result"
    }
   ],
   "source": [
    "arr[1:2,2:]"
   ]
  },
  {
   "cell_type": "code",
   "execution_count": 80,
   "id": "114245da-438c-4387-961d-f23c48eaf164",
   "metadata": {},
   "outputs": [
    {
     "data": {
      "text/plain": [
       "array([[4, 5],\n",
       "       [6, 8]])"
      ]
     },
     "execution_count": 80,
     "metadata": {},
     "output_type": "execute_result"
    }
   ],
   "source": [
    "arr[1:,2:4]"
   ]
  },
  {
   "cell_type": "code",
   "execution_count": 79,
   "id": "b04472e4-2bc9-48d0-bf68-19a8f449bbf0",
   "metadata": {},
   "outputs": [
    {
     "data": {
      "text/plain": [
       "array([[3, 4, 5]])"
      ]
     },
     "execution_count": 79,
     "metadata": {},
     "output_type": "execute_result"
    }
   ],
   "source": [
    "arr[1:2,1:4]"
   ]
  },
  {
   "cell_type": "code",
   "execution_count": 84,
   "id": "3bd9226e-8290-4e9d-a211-c018afab4a24",
   "metadata": {},
   "outputs": [
    {
     "data": {
      "text/plain": [
       "array([0, 2, 4, 6, 8])"
      ]
     },
     "execution_count": 84,
     "metadata": {},
     "output_type": "execute_result"
    }
   ],
   "source": [
    "arr=np.arange(0,10,2)\n",
    "arr"
   ]
  },
  {
   "cell_type": "code",
   "execution_count": 86,
   "id": "9de6252d-7d2c-4fc0-a2ea-fb3178aad98e",
   "metadata": {},
   "outputs": [
    {
     "data": {
      "text/plain": [
       "array([ 1.        ,  1.18367347,  1.36734694,  1.55102041,  1.73469388,\n",
       "        1.91836735,  2.10204082,  2.28571429,  2.46938776,  2.65306122,\n",
       "        2.83673469,  3.02040816,  3.20408163,  3.3877551 ,  3.57142857,\n",
       "        3.75510204,  3.93877551,  4.12244898,  4.30612245,  4.48979592,\n",
       "        4.67346939,  4.85714286,  5.04081633,  5.2244898 ,  5.40816327,\n",
       "        5.59183673,  5.7755102 ,  5.95918367,  6.14285714,  6.32653061,\n",
       "        6.51020408,  6.69387755,  6.87755102,  7.06122449,  7.24489796,\n",
       "        7.42857143,  7.6122449 ,  7.79591837,  7.97959184,  8.16326531,\n",
       "        8.34693878,  8.53061224,  8.71428571,  8.89795918,  9.08163265,\n",
       "        9.26530612,  9.44897959,  9.63265306,  9.81632653, 10.        ])"
      ]
     },
     "execution_count": 86,
     "metadata": {},
     "output_type": "execute_result"
    }
   ],
   "source": [
    "np.linspace(1,10,50)"
   ]
  },
  {
   "cell_type": "code",
   "execution_count": 100,
   "id": "6ee83b1f-b035-4aa9-9576-828e53664cbb",
   "metadata": {},
   "outputs": [],
   "source": [
    "arr=np.array([1,2,3,4,5,6,7,8,9])"
   ]
  },
  {
   "cell_type": "code",
   "execution_count": 106,
   "id": "858daa7e-c9e9-46ea-be04-1b593adec35b",
   "metadata": {},
   "outputs": [],
   "source": [
    "arr[3:]=100"
   ]
  },
  {
   "cell_type": "code",
   "execution_count": 102,
   "id": "17e0830a-c917-4d85-9855-eddc3a9c91b0",
   "metadata": {},
   "outputs": [
    {
     "data": {
      "text/plain": [
       "array([  1,   2,   3, 100, 100, 100, 100, 100, 100])"
      ]
     },
     "execution_count": 102,
     "metadata": {},
     "output_type": "execute_result"
    }
   ],
   "source": [
    "arr"
   ]
  },
  {
   "cell_type": "code",
   "execution_count": 103,
   "id": "28d98c98-5757-49d3-bafb-73150a8d03d3",
   "metadata": {},
   "outputs": [
    {
     "data": {
      "text/plain": [
       "array([  1,   2,   3, 100, 100, 100, 100, 100, 100])"
      ]
     },
     "execution_count": 103,
     "metadata": {},
     "output_type": "execute_result"
    }
   ],
   "source": [
    "arr1=arr\n",
    "arr1"
   ]
  },
  {
   "cell_type": "code",
   "execution_count": 104,
   "id": "48271c60-a6fb-4d9c-b13b-e842c68f2b09",
   "metadata": {},
   "outputs": [
    {
     "data": {
      "text/plain": [
       "array([  1,   2,   3, 500, 500, 500, 500, 500, 500])"
      ]
     },
     "execution_count": 104,
     "metadata": {},
     "output_type": "execute_result"
    }
   ],
   "source": [
    "arr1[3:]=500\n",
    "arr1"
   ]
  },
  {
   "cell_type": "code",
   "execution_count": 105,
   "id": "efbb4f82-adca-49e7-9d3f-6726db430e41",
   "metadata": {},
   "outputs": [
    {
     "data": {
      "text/plain": [
       "array([  1,   2,   3, 500, 500, 500, 500, 500, 500])"
      ]
     },
     "execution_count": 105,
     "metadata": {},
     "output_type": "execute_result"
    }
   ],
   "source": [
    "arr"
   ]
  },
  {
   "cell_type": "code",
   "execution_count": 107,
   "id": "af9695d0-7b49-46f1-a800-17860626ce0a",
   "metadata": {},
   "outputs": [
    {
     "data": {
      "text/plain": [
       "array([  1,   2,   3, 100, 100, 100, 100, 100, 100])"
      ]
     },
     "execution_count": 107,
     "metadata": {},
     "output_type": "execute_result"
    }
   ],
   "source": [
    "arr"
   ]
  },
  {
   "cell_type": "code",
   "execution_count": 108,
   "id": "7c8211c5-f04d-4dae-967e-f8d59c4def17",
   "metadata": {},
   "outputs": [],
   "source": [
    "arr1=arr.copy()"
   ]
  },
  {
   "cell_type": "code",
   "execution_count": 109,
   "id": "b68b54b9-28ea-421c-b169-4f9a1c2faf6a",
   "metadata": {},
   "outputs": [
    {
     "data": {
      "text/plain": [
       "array([  1,   2,   3, 100, 100, 100, 100, 100, 100])"
      ]
     },
     "execution_count": 109,
     "metadata": {},
     "output_type": "execute_result"
    }
   ],
   "source": [
    "arr1"
   ]
  },
  {
   "cell_type": "code",
   "execution_count": 110,
   "id": "ffd268d8-4844-46aa-a703-a5d3b972ea61",
   "metadata": {},
   "outputs": [
    {
     "data": {
      "text/plain": [
       "array([   1,    2,    3, 1000, 1000, 1000, 1000, 1000, 1000])"
      ]
     },
     "execution_count": 110,
     "metadata": {},
     "output_type": "execute_result"
    }
   ],
   "source": [
    "arr1[3:]=1000\n",
    "arr1"
   ]
  },
  {
   "cell_type": "code",
   "execution_count": 111,
   "id": "15b43218-8246-4fa7-b30e-3ca45ff3034f",
   "metadata": {},
   "outputs": [
    {
     "data": {
      "text/plain": [
       "array([  1,   2,   3, 100, 100, 100, 100, 100, 100])"
      ]
     },
     "execution_count": 111,
     "metadata": {},
     "output_type": "execute_result"
    }
   ],
   "source": [
    "arr"
   ]
  },
  {
   "cell_type": "code",
   "execution_count": 113,
   "id": "262325f8-a3d2-4448-ae5a-e149c9f73db6",
   "metadata": {},
   "outputs": [
    {
     "data": {
      "text/plain": [
       "array([  2,   4,   6, 200, 200, 200, 200, 200, 200])"
      ]
     },
     "execution_count": 113,
     "metadata": {},
     "output_type": "execute_result"
    }
   ],
   "source": [
    "val=2\n",
    "arr*2"
   ]
  },
  {
   "cell_type": "code",
   "execution_count": 115,
   "id": "ee309e91-9eb0-4a66-8c66-5aa34fb54501",
   "metadata": {},
   "outputs": [
    {
     "data": {
      "text/plain": [
       "array([1, 2, 3])"
      ]
     },
     "execution_count": 115,
     "metadata": {},
     "output_type": "execute_result"
    }
   ],
   "source": [
    "arr[arr<100]"
   ]
  },
  {
   "cell_type": "code",
   "execution_count": 124,
   "id": "7bb3aba6-6437-4fd7-9447-30af1a21a130",
   "metadata": {},
   "outputs": [
    {
     "data": {
      "text/plain": [
       "array([[ 0,  1,  2],\n",
       "       [ 3,  4,  5],\n",
       "       [ 6,  7,  8],\n",
       "       [ 9, 10, 11],\n",
       "       [12, 13, 14]])"
      ]
     },
     "execution_count": 124,
     "metadata": {},
     "output_type": "execute_result"
    }
   ],
   "source": [
    "np.arange(0,15).reshape(5,3)"
   ]
  },
  {
   "cell_type": "code",
   "execution_count": 125,
   "id": "3e79173c-7a20-4b11-a035-02809c4349be",
   "metadata": {},
   "outputs": [
    {
     "data": {
      "text/plain": [
       "array([1, 1, 1, 1])"
      ]
     },
     "execution_count": 125,
     "metadata": {},
     "output_type": "execute_result"
    }
   ],
   "source": [
    " np.ones(4,dtype=int)"
   ]
  },
  {
   "cell_type": "code",
   "execution_count": 127,
   "id": "da503e04-e38d-42c9-839d-8eb50240d22b",
   "metadata": {},
   "outputs": [
    {
     "data": {
      "text/plain": [
       "array([[1., 1., 1., 1., 1.],\n",
       "       [1., 1., 1., 1., 1.]])"
      ]
     },
     "execution_count": 127,
     "metadata": {},
     "output_type": "execute_result"
    }
   ],
   "source": [
    "np.ones((2,5))"
   ]
  },
  {
   "cell_type": "code",
   "execution_count": 132,
   "id": "2314bd65-70d6-4495-b0c6-1d3cb6403ee2",
   "metadata": {},
   "outputs": [
    {
     "data": {
      "text/plain": [
       "array([[0.19786149, 0.14567464, 0.57086299],\n",
       "       [0.30207325, 0.90792039, 0.06704167],\n",
       "       [0.67928921, 0.91019386, 0.4805648 ]])"
      ]
     },
     "execution_count": 132,
     "metadata": {},
     "output_type": "execute_result"
    }
   ],
   "source": [
    "np.random.rand(3,3)"
   ]
  },
  {
   "cell_type": "code",
   "execution_count": 133,
   "id": "ccea0d46-30e4-40ad-be27-5ab6ada303dd",
   "metadata": {},
   "outputs": [
    {
     "data": {
      "text/plain": [
       "array([[ 0.22214228, -0.8599906 ,  1.79455555,  0.62183358],\n",
       "       [-0.06655925, -0.90875456, -0.49410769,  0.17903904],\n",
       "       [-0.06307948, -0.77770736,  0.02574665,  0.79691119],\n",
       "       [ 0.22638412, -0.85289705, -0.2016439 , -1.35668013]])"
      ]
     },
     "execution_count": 133,
     "metadata": {},
     "output_type": "execute_result"
    }
   ],
   "source": [
    "np.random.randn(4,4)"
   ]
  },
  {
   "cell_type": "markdown",
   "id": "4b069efe-77a9-4672-8527-62ae733198df",
   "metadata": {},
   "source": [
    "## Pandas"
   ]
  },
  {
   "cell_type": "code",
   "execution_count": 2,
   "id": "b39bc694-c049-4fd8-b3be-c9ad325c225f",
   "metadata": {},
   "outputs": [],
   "source": [
    "import pandas as pd"
   ]
  },
  {
   "cell_type": "code",
   "execution_count": 22,
   "id": "068ae20c-7f16-4d8f-a9d2-98372e58a5d3",
   "metadata": {},
   "outputs": [],
   "source": [
    "df=pd.DataFrame(np.arange(0,20).reshape(5,4),index=[\"Row1\",\"Row2\",\"Row3\",\"Row4\",\"Row5\"],columns=[\"Coulmn1\",\"Column2\",\"Column3\",\"Column4\"])"
   ]
  },
  {
   "cell_type": "code",
   "execution_count": 6,
   "id": "13072c96-e301-4631-b9e8-e0702b3f11be",
   "metadata": {},
   "outputs": [
    {
     "data": {
      "text/html": [
       "<div>\n",
       "<style scoped>\n",
       "    .dataframe tbody tr th:only-of-type {\n",
       "        vertical-align: middle;\n",
       "    }\n",
       "\n",
       "    .dataframe tbody tr th {\n",
       "        vertical-align: top;\n",
       "    }\n",
       "\n",
       "    .dataframe thead th {\n",
       "        text-align: right;\n",
       "    }\n",
       "</style>\n",
       "<table border=\"1\" class=\"dataframe\">\n",
       "  <thead>\n",
       "    <tr style=\"text-align: right;\">\n",
       "      <th></th>\n",
       "      <th>Coulmn1</th>\n",
       "      <th>Column2</th>\n",
       "      <th>Column3</th>\n",
       "      <th>Column4</th>\n",
       "    </tr>\n",
       "  </thead>\n",
       "  <tbody>\n",
       "    <tr>\n",
       "      <th>Row1</th>\n",
       "      <td>0</td>\n",
       "      <td>1</td>\n",
       "      <td>2</td>\n",
       "      <td>3</td>\n",
       "    </tr>\n",
       "    <tr>\n",
       "      <th>Row2</th>\n",
       "      <td>4</td>\n",
       "      <td>5</td>\n",
       "      <td>6</td>\n",
       "      <td>7</td>\n",
       "    </tr>\n",
       "    <tr>\n",
       "      <th>Row3</th>\n",
       "      <td>8</td>\n",
       "      <td>9</td>\n",
       "      <td>10</td>\n",
       "      <td>11</td>\n",
       "    </tr>\n",
       "    <tr>\n",
       "      <th>Row4</th>\n",
       "      <td>12</td>\n",
       "      <td>13</td>\n",
       "      <td>14</td>\n",
       "      <td>15</td>\n",
       "    </tr>\n",
       "    <tr>\n",
       "      <th>Row5</th>\n",
       "      <td>16</td>\n",
       "      <td>17</td>\n",
       "      <td>18</td>\n",
       "      <td>19</td>\n",
       "    </tr>\n",
       "  </tbody>\n",
       "</table>\n",
       "</div>"
      ],
      "text/plain": [
       "      Coulmn1  Column2  Column3  Column4\n",
       "Row1        0        1        2        3\n",
       "Row2        4        5        6        7\n",
       "Row3        8        9       10       11\n",
       "Row4       12       13       14       15\n",
       "Row5       16       17       18       19"
      ]
     },
     "execution_count": 6,
     "metadata": {},
     "output_type": "execute_result"
    }
   ],
   "source": [
    "df.head()"
   ]
  },
  {
   "cell_type": "code",
   "execution_count": 145,
   "id": "a0ffe692-102d-43e5-8b6a-1afbaabffad4",
   "metadata": {},
   "outputs": [],
   "source": [
    "df.to_csv('Test1.csv')"
   ]
  },
  {
   "cell_type": "code",
   "execution_count": 23,
   "id": "c205373b-8853-49a2-8e26-5c5ceb55ac0c",
   "metadata": {},
   "outputs": [
    {
     "data": {
      "text/plain": [
       "pandas.core.series.Series"
      ]
     },
     "execution_count": 23,
     "metadata": {},
     "output_type": "execute_result"
    }
   ],
   "source": [
    "type(df.loc[\"Row1\"])"
   ]
  },
  {
   "cell_type": "code",
   "execution_count": 7,
   "id": "2a8f5b2d-8936-4ff4-88d6-d9bb8c00cd06",
   "metadata": {},
   "outputs": [
    {
     "data": {
      "text/html": [
       "<div>\n",
       "<style scoped>\n",
       "    .dataframe tbody tr th:only-of-type {\n",
       "        vertical-align: middle;\n",
       "    }\n",
       "\n",
       "    .dataframe tbody tr th {\n",
       "        vertical-align: top;\n",
       "    }\n",
       "\n",
       "    .dataframe thead th {\n",
       "        text-align: right;\n",
       "    }\n",
       "</style>\n",
       "<table border=\"1\" class=\"dataframe\">\n",
       "  <thead>\n",
       "    <tr style=\"text-align: right;\">\n",
       "      <th></th>\n",
       "      <th>Column2</th>\n",
       "      <th>Column3</th>\n",
       "      <th>Column4</th>\n",
       "    </tr>\n",
       "  </thead>\n",
       "  <tbody>\n",
       "    <tr>\n",
       "      <th>Row1</th>\n",
       "      <td>1</td>\n",
       "      <td>2</td>\n",
       "      <td>3</td>\n",
       "    </tr>\n",
       "    <tr>\n",
       "      <th>Row2</th>\n",
       "      <td>5</td>\n",
       "      <td>6</td>\n",
       "      <td>7</td>\n",
       "    </tr>\n",
       "    <tr>\n",
       "      <th>Row3</th>\n",
       "      <td>9</td>\n",
       "      <td>10</td>\n",
       "      <td>11</td>\n",
       "    </tr>\n",
       "    <tr>\n",
       "      <th>Row4</th>\n",
       "      <td>13</td>\n",
       "      <td>14</td>\n",
       "      <td>15</td>\n",
       "    </tr>\n",
       "    <tr>\n",
       "      <th>Row5</th>\n",
       "      <td>17</td>\n",
       "      <td>18</td>\n",
       "      <td>19</td>\n",
       "    </tr>\n",
       "  </tbody>\n",
       "</table>\n",
       "</div>"
      ],
      "text/plain": [
       "      Column2  Column3  Column4\n",
       "Row1        1        2        3\n",
       "Row2        5        6        7\n",
       "Row3        9       10       11\n",
       "Row4       13       14       15\n",
       "Row5       17       18       19"
      ]
     },
     "execution_count": 7,
     "metadata": {},
     "output_type": "execute_result"
    }
   ],
   "source": [
    "df.iloc[:,1:]"
   ]
  },
  {
   "cell_type": "code",
   "execution_count": 8,
   "id": "4f34c2d0-ed55-45d6-aab0-294079050775",
   "metadata": {},
   "outputs": [
    {
     "data": {
      "text/plain": [
       "array([[ 1,  2,  3],\n",
       "       [ 5,  6,  7],\n",
       "       [ 9, 10, 11],\n",
       "       [13, 14, 15],\n",
       "       [17, 18, 19]])"
      ]
     },
     "execution_count": 8,
     "metadata": {},
     "output_type": "execute_result"
    }
   ],
   "source": [
    "df.iloc[:,1:].values"
   ]
  },
  {
   "cell_type": "code",
   "execution_count": 162,
   "id": "bbc79205-74fe-4eec-91f2-72941124306a",
   "metadata": {},
   "outputs": [
    {
     "data": {
      "text/plain": [
       "Coulmn1    0\n",
       "Column2    0\n",
       "Column3    0\n",
       "Column4    0\n",
       "dtype: int64"
      ]
     },
     "execution_count": 162,
     "metadata": {},
     "output_type": "execute_result"
    }
   ],
   "source": [
    "df.isnull().sum()"
   ]
  },
  {
   "cell_type": "code",
   "execution_count": 9,
   "id": "e542b8da-8653-4db0-93cb-da6684e399cf",
   "metadata": {},
   "outputs": [
    {
     "data": {
      "text/html": [
       "<div>\n",
       "<style scoped>\n",
       "    .dataframe tbody tr th:only-of-type {\n",
       "        vertical-align: middle;\n",
       "    }\n",
       "\n",
       "    .dataframe tbody tr th {\n",
       "        vertical-align: top;\n",
       "    }\n",
       "\n",
       "    .dataframe thead th {\n",
       "        text-align: right;\n",
       "    }\n",
       "</style>\n",
       "<table border=\"1\" class=\"dataframe\">\n",
       "  <thead>\n",
       "    <tr style=\"text-align: right;\">\n",
       "      <th></th>\n",
       "      <th>Column3</th>\n",
       "      <th>Column4</th>\n",
       "    </tr>\n",
       "  </thead>\n",
       "  <tbody>\n",
       "    <tr>\n",
       "      <th>Row1</th>\n",
       "      <td>2</td>\n",
       "      <td>3</td>\n",
       "    </tr>\n",
       "    <tr>\n",
       "      <th>Row2</th>\n",
       "      <td>6</td>\n",
       "      <td>7</td>\n",
       "    </tr>\n",
       "    <tr>\n",
       "      <th>Row3</th>\n",
       "      <td>10</td>\n",
       "      <td>11</td>\n",
       "    </tr>\n",
       "    <tr>\n",
       "      <th>Row4</th>\n",
       "      <td>14</td>\n",
       "      <td>15</td>\n",
       "    </tr>\n",
       "    <tr>\n",
       "      <th>Row5</th>\n",
       "      <td>18</td>\n",
       "      <td>19</td>\n",
       "    </tr>\n",
       "  </tbody>\n",
       "</table>\n",
       "</div>"
      ],
      "text/plain": [
       "      Column3  Column4\n",
       "Row1        2        3\n",
       "Row2        6        7\n",
       "Row3       10       11\n",
       "Row4       14       15\n",
       "Row5       18       19"
      ]
     },
     "execution_count": 9,
     "metadata": {},
     "output_type": "execute_result"
    }
   ],
   "source": [
    "df[['Column3','Column4']]"
   ]
  },
  {
   "cell_type": "code",
   "execution_count": 10,
   "id": "a84a90d2-61b1-4b8a-a39f-9a6722fd9c42",
   "metadata": {},
   "outputs": [],
   "source": [
    "df=pd.read_csv('train.csv')"
   ]
  },
  {
   "cell_type": "code",
   "execution_count": 11,
   "id": "1300c062-d822-44ec-8223-e3a232a34e25",
   "metadata": {},
   "outputs": [
    {
     "data": {
      "text/html": [
       "<div>\n",
       "<style scoped>\n",
       "    .dataframe tbody tr th:only-of-type {\n",
       "        vertical-align: middle;\n",
       "    }\n",
       "\n",
       "    .dataframe tbody tr th {\n",
       "        vertical-align: top;\n",
       "    }\n",
       "\n",
       "    .dataframe thead th {\n",
       "        text-align: right;\n",
       "    }\n",
       "</style>\n",
       "<table border=\"1\" class=\"dataframe\">\n",
       "  <thead>\n",
       "    <tr style=\"text-align: right;\">\n",
       "      <th></th>\n",
       "      <th>ID</th>\n",
       "      <th>y</th>\n",
       "      <th>X0</th>\n",
       "      <th>X1</th>\n",
       "      <th>X2</th>\n",
       "      <th>X3</th>\n",
       "      <th>X4</th>\n",
       "      <th>X5</th>\n",
       "      <th>X6</th>\n",
       "      <th>X8</th>\n",
       "      <th>...</th>\n",
       "      <th>X375</th>\n",
       "      <th>X376</th>\n",
       "      <th>X377</th>\n",
       "      <th>X378</th>\n",
       "      <th>X379</th>\n",
       "      <th>X380</th>\n",
       "      <th>X382</th>\n",
       "      <th>X383</th>\n",
       "      <th>X384</th>\n",
       "      <th>X385</th>\n",
       "    </tr>\n",
       "  </thead>\n",
       "  <tbody>\n",
       "    <tr>\n",
       "      <th>0</th>\n",
       "      <td>0</td>\n",
       "      <td>130.81</td>\n",
       "      <td>k</td>\n",
       "      <td>v</td>\n",
       "      <td>at</td>\n",
       "      <td>a</td>\n",
       "      <td>d</td>\n",
       "      <td>u</td>\n",
       "      <td>j</td>\n",
       "      <td>o</td>\n",
       "      <td>...</td>\n",
       "      <td>0</td>\n",
       "      <td>0</td>\n",
       "      <td>1</td>\n",
       "      <td>0</td>\n",
       "      <td>0</td>\n",
       "      <td>0</td>\n",
       "      <td>0</td>\n",
       "      <td>0</td>\n",
       "      <td>0</td>\n",
       "      <td>0</td>\n",
       "    </tr>\n",
       "    <tr>\n",
       "      <th>1</th>\n",
       "      <td>6</td>\n",
       "      <td>88.53</td>\n",
       "      <td>k</td>\n",
       "      <td>t</td>\n",
       "      <td>av</td>\n",
       "      <td>e</td>\n",
       "      <td>d</td>\n",
       "      <td>y</td>\n",
       "      <td>l</td>\n",
       "      <td>o</td>\n",
       "      <td>...</td>\n",
       "      <td>1</td>\n",
       "      <td>0</td>\n",
       "      <td>0</td>\n",
       "      <td>0</td>\n",
       "      <td>0</td>\n",
       "      <td>0</td>\n",
       "      <td>0</td>\n",
       "      <td>0</td>\n",
       "      <td>0</td>\n",
       "      <td>0</td>\n",
       "    </tr>\n",
       "    <tr>\n",
       "      <th>2</th>\n",
       "      <td>7</td>\n",
       "      <td>76.26</td>\n",
       "      <td>az</td>\n",
       "      <td>w</td>\n",
       "      <td>n</td>\n",
       "      <td>c</td>\n",
       "      <td>d</td>\n",
       "      <td>x</td>\n",
       "      <td>j</td>\n",
       "      <td>x</td>\n",
       "      <td>...</td>\n",
       "      <td>0</td>\n",
       "      <td>0</td>\n",
       "      <td>0</td>\n",
       "      <td>0</td>\n",
       "      <td>0</td>\n",
       "      <td>0</td>\n",
       "      <td>1</td>\n",
       "      <td>0</td>\n",
       "      <td>0</td>\n",
       "      <td>0</td>\n",
       "    </tr>\n",
       "    <tr>\n",
       "      <th>3</th>\n",
       "      <td>9</td>\n",
       "      <td>80.62</td>\n",
       "      <td>az</td>\n",
       "      <td>t</td>\n",
       "      <td>n</td>\n",
       "      <td>f</td>\n",
       "      <td>d</td>\n",
       "      <td>x</td>\n",
       "      <td>l</td>\n",
       "      <td>e</td>\n",
       "      <td>...</td>\n",
       "      <td>0</td>\n",
       "      <td>0</td>\n",
       "      <td>0</td>\n",
       "      <td>0</td>\n",
       "      <td>0</td>\n",
       "      <td>0</td>\n",
       "      <td>0</td>\n",
       "      <td>0</td>\n",
       "      <td>0</td>\n",
       "      <td>0</td>\n",
       "    </tr>\n",
       "    <tr>\n",
       "      <th>4</th>\n",
       "      <td>13</td>\n",
       "      <td>78.02</td>\n",
       "      <td>az</td>\n",
       "      <td>v</td>\n",
       "      <td>n</td>\n",
       "      <td>f</td>\n",
       "      <td>d</td>\n",
       "      <td>h</td>\n",
       "      <td>d</td>\n",
       "      <td>n</td>\n",
       "      <td>...</td>\n",
       "      <td>0</td>\n",
       "      <td>0</td>\n",
       "      <td>0</td>\n",
       "      <td>0</td>\n",
       "      <td>0</td>\n",
       "      <td>0</td>\n",
       "      <td>0</td>\n",
       "      <td>0</td>\n",
       "      <td>0</td>\n",
       "      <td>0</td>\n",
       "    </tr>\n",
       "  </tbody>\n",
       "</table>\n",
       "<p>5 rows × 378 columns</p>\n",
       "</div>"
      ],
      "text/plain": [
       "   ID       y  X0 X1  X2 X3 X4 X5 X6 X8  ...  X375  X376  X377  X378  X379  \\\n",
       "0   0  130.81   k  v  at  a  d  u  j  o  ...     0     0     1     0     0   \n",
       "1   6   88.53   k  t  av  e  d  y  l  o  ...     1     0     0     0     0   \n",
       "2   7   76.26  az  w   n  c  d  x  j  x  ...     0     0     0     0     0   \n",
       "3   9   80.62  az  t   n  f  d  x  l  e  ...     0     0     0     0     0   \n",
       "4  13   78.02  az  v   n  f  d  h  d  n  ...     0     0     0     0     0   \n",
       "\n",
       "   X380  X382  X383  X384  X385  \n",
       "0     0     0     0     0     0  \n",
       "1     0     0     0     0     0  \n",
       "2     0     1     0     0     0  \n",
       "3     0     0     0     0     0  \n",
       "4     0     0     0     0     0  \n",
       "\n",
       "[5 rows x 378 columns]"
      ]
     },
     "execution_count": 11,
     "metadata": {},
     "output_type": "execute_result"
    }
   ],
   "source": [
    "df.head()"
   ]
  },
  {
   "cell_type": "code",
   "execution_count": 18,
   "id": "cf05ce9b-1edf-4cd5-a90e-c14a0282743d",
   "metadata": {},
   "outputs": [
    {
     "data": {
      "text/plain": [
       "pandas.core.frame.DataFrame"
      ]
     },
     "execution_count": 18,
     "metadata": {},
     "output_type": "execute_result"
    }
   ],
   "source": [
    "type(df)"
   ]
  },
  {
   "cell_type": "code",
   "execution_count": 12,
   "id": "3d025574-d66b-472e-95f8-b88c96914d8b",
   "metadata": {},
   "outputs": [
    {
     "name": "stdout",
     "output_type": "stream",
     "text": [
      "<class 'pandas.core.frame.DataFrame'>\n",
      "RangeIndex: 4209 entries, 0 to 4208\n",
      "Columns: 378 entries, ID to X385\n",
      "dtypes: float64(1), int64(369), object(8)\n",
      "memory usage: 12.1+ MB\n"
     ]
    }
   ],
   "source": [
    "df.info()"
   ]
  },
  {
   "cell_type": "code",
   "execution_count": 13,
   "id": "88041b52-170d-4318-86c7-db7e362dd2fb",
   "metadata": {},
   "outputs": [
    {
     "data": {
      "text/html": [
       "<div>\n",
       "<style scoped>\n",
       "    .dataframe tbody tr th:only-of-type {\n",
       "        vertical-align: middle;\n",
       "    }\n",
       "\n",
       "    .dataframe tbody tr th {\n",
       "        vertical-align: top;\n",
       "    }\n",
       "\n",
       "    .dataframe thead th {\n",
       "        text-align: right;\n",
       "    }\n",
       "</style>\n",
       "<table border=\"1\" class=\"dataframe\">\n",
       "  <thead>\n",
       "    <tr style=\"text-align: right;\">\n",
       "      <th></th>\n",
       "      <th>ID</th>\n",
       "      <th>y</th>\n",
       "      <th>X10</th>\n",
       "      <th>X11</th>\n",
       "      <th>X12</th>\n",
       "      <th>X13</th>\n",
       "      <th>X14</th>\n",
       "      <th>X15</th>\n",
       "      <th>X16</th>\n",
       "      <th>X17</th>\n",
       "      <th>...</th>\n",
       "      <th>X375</th>\n",
       "      <th>X376</th>\n",
       "      <th>X377</th>\n",
       "      <th>X378</th>\n",
       "      <th>X379</th>\n",
       "      <th>X380</th>\n",
       "      <th>X382</th>\n",
       "      <th>X383</th>\n",
       "      <th>X384</th>\n",
       "      <th>X385</th>\n",
       "    </tr>\n",
       "  </thead>\n",
       "  <tbody>\n",
       "    <tr>\n",
       "      <th>count</th>\n",
       "      <td>4209.000000</td>\n",
       "      <td>4209.000000</td>\n",
       "      <td>4209.000000</td>\n",
       "      <td>4209.0</td>\n",
       "      <td>4209.000000</td>\n",
       "      <td>4209.000000</td>\n",
       "      <td>4209.000000</td>\n",
       "      <td>4209.000000</td>\n",
       "      <td>4209.000000</td>\n",
       "      <td>4209.000000</td>\n",
       "      <td>...</td>\n",
       "      <td>4209.000000</td>\n",
       "      <td>4209.000000</td>\n",
       "      <td>4209.000000</td>\n",
       "      <td>4209.000000</td>\n",
       "      <td>4209.000000</td>\n",
       "      <td>4209.000000</td>\n",
       "      <td>4209.000000</td>\n",
       "      <td>4209.000000</td>\n",
       "      <td>4209.000000</td>\n",
       "      <td>4209.000000</td>\n",
       "    </tr>\n",
       "    <tr>\n",
       "      <th>mean</th>\n",
       "      <td>4205.960798</td>\n",
       "      <td>100.669318</td>\n",
       "      <td>0.013305</td>\n",
       "      <td>0.0</td>\n",
       "      <td>0.075077</td>\n",
       "      <td>0.057971</td>\n",
       "      <td>0.428130</td>\n",
       "      <td>0.000475</td>\n",
       "      <td>0.002613</td>\n",
       "      <td>0.007603</td>\n",
       "      <td>...</td>\n",
       "      <td>0.318841</td>\n",
       "      <td>0.057258</td>\n",
       "      <td>0.314802</td>\n",
       "      <td>0.020670</td>\n",
       "      <td>0.009503</td>\n",
       "      <td>0.008078</td>\n",
       "      <td>0.007603</td>\n",
       "      <td>0.001663</td>\n",
       "      <td>0.000475</td>\n",
       "      <td>0.001426</td>\n",
       "    </tr>\n",
       "    <tr>\n",
       "      <th>std</th>\n",
       "      <td>2437.608688</td>\n",
       "      <td>12.679381</td>\n",
       "      <td>0.114590</td>\n",
       "      <td>0.0</td>\n",
       "      <td>0.263547</td>\n",
       "      <td>0.233716</td>\n",
       "      <td>0.494867</td>\n",
       "      <td>0.021796</td>\n",
       "      <td>0.051061</td>\n",
       "      <td>0.086872</td>\n",
       "      <td>...</td>\n",
       "      <td>0.466082</td>\n",
       "      <td>0.232363</td>\n",
       "      <td>0.464492</td>\n",
       "      <td>0.142294</td>\n",
       "      <td>0.097033</td>\n",
       "      <td>0.089524</td>\n",
       "      <td>0.086872</td>\n",
       "      <td>0.040752</td>\n",
       "      <td>0.021796</td>\n",
       "      <td>0.037734</td>\n",
       "    </tr>\n",
       "    <tr>\n",
       "      <th>min</th>\n",
       "      <td>0.000000</td>\n",
       "      <td>72.110000</td>\n",
       "      <td>0.000000</td>\n",
       "      <td>0.0</td>\n",
       "      <td>0.000000</td>\n",
       "      <td>0.000000</td>\n",
       "      <td>0.000000</td>\n",
       "      <td>0.000000</td>\n",
       "      <td>0.000000</td>\n",
       "      <td>0.000000</td>\n",
       "      <td>...</td>\n",
       "      <td>0.000000</td>\n",
       "      <td>0.000000</td>\n",
       "      <td>0.000000</td>\n",
       "      <td>0.000000</td>\n",
       "      <td>0.000000</td>\n",
       "      <td>0.000000</td>\n",
       "      <td>0.000000</td>\n",
       "      <td>0.000000</td>\n",
       "      <td>0.000000</td>\n",
       "      <td>0.000000</td>\n",
       "    </tr>\n",
       "    <tr>\n",
       "      <th>25%</th>\n",
       "      <td>2095.000000</td>\n",
       "      <td>90.820000</td>\n",
       "      <td>0.000000</td>\n",
       "      <td>0.0</td>\n",
       "      <td>0.000000</td>\n",
       "      <td>0.000000</td>\n",
       "      <td>0.000000</td>\n",
       "      <td>0.000000</td>\n",
       "      <td>0.000000</td>\n",
       "      <td>0.000000</td>\n",
       "      <td>...</td>\n",
       "      <td>0.000000</td>\n",
       "      <td>0.000000</td>\n",
       "      <td>0.000000</td>\n",
       "      <td>0.000000</td>\n",
       "      <td>0.000000</td>\n",
       "      <td>0.000000</td>\n",
       "      <td>0.000000</td>\n",
       "      <td>0.000000</td>\n",
       "      <td>0.000000</td>\n",
       "      <td>0.000000</td>\n",
       "    </tr>\n",
       "    <tr>\n",
       "      <th>50%</th>\n",
       "      <td>4220.000000</td>\n",
       "      <td>99.150000</td>\n",
       "      <td>0.000000</td>\n",
       "      <td>0.0</td>\n",
       "      <td>0.000000</td>\n",
       "      <td>0.000000</td>\n",
       "      <td>0.000000</td>\n",
       "      <td>0.000000</td>\n",
       "      <td>0.000000</td>\n",
       "      <td>0.000000</td>\n",
       "      <td>...</td>\n",
       "      <td>0.000000</td>\n",
       "      <td>0.000000</td>\n",
       "      <td>0.000000</td>\n",
       "      <td>0.000000</td>\n",
       "      <td>0.000000</td>\n",
       "      <td>0.000000</td>\n",
       "      <td>0.000000</td>\n",
       "      <td>0.000000</td>\n",
       "      <td>0.000000</td>\n",
       "      <td>0.000000</td>\n",
       "    </tr>\n",
       "    <tr>\n",
       "      <th>75%</th>\n",
       "      <td>6314.000000</td>\n",
       "      <td>109.010000</td>\n",
       "      <td>0.000000</td>\n",
       "      <td>0.0</td>\n",
       "      <td>0.000000</td>\n",
       "      <td>0.000000</td>\n",
       "      <td>1.000000</td>\n",
       "      <td>0.000000</td>\n",
       "      <td>0.000000</td>\n",
       "      <td>0.000000</td>\n",
       "      <td>...</td>\n",
       "      <td>1.000000</td>\n",
       "      <td>0.000000</td>\n",
       "      <td>1.000000</td>\n",
       "      <td>0.000000</td>\n",
       "      <td>0.000000</td>\n",
       "      <td>0.000000</td>\n",
       "      <td>0.000000</td>\n",
       "      <td>0.000000</td>\n",
       "      <td>0.000000</td>\n",
       "      <td>0.000000</td>\n",
       "    </tr>\n",
       "    <tr>\n",
       "      <th>max</th>\n",
       "      <td>8417.000000</td>\n",
       "      <td>265.320000</td>\n",
       "      <td>1.000000</td>\n",
       "      <td>0.0</td>\n",
       "      <td>1.000000</td>\n",
       "      <td>1.000000</td>\n",
       "      <td>1.000000</td>\n",
       "      <td>1.000000</td>\n",
       "      <td>1.000000</td>\n",
       "      <td>1.000000</td>\n",
       "      <td>...</td>\n",
       "      <td>1.000000</td>\n",
       "      <td>1.000000</td>\n",
       "      <td>1.000000</td>\n",
       "      <td>1.000000</td>\n",
       "      <td>1.000000</td>\n",
       "      <td>1.000000</td>\n",
       "      <td>1.000000</td>\n",
       "      <td>1.000000</td>\n",
       "      <td>1.000000</td>\n",
       "      <td>1.000000</td>\n",
       "    </tr>\n",
       "  </tbody>\n",
       "</table>\n",
       "<p>8 rows × 370 columns</p>\n",
       "</div>"
      ],
      "text/plain": [
       "                ID            y          X10     X11          X12  \\\n",
       "count  4209.000000  4209.000000  4209.000000  4209.0  4209.000000   \n",
       "mean   4205.960798   100.669318     0.013305     0.0     0.075077   \n",
       "std    2437.608688    12.679381     0.114590     0.0     0.263547   \n",
       "min       0.000000    72.110000     0.000000     0.0     0.000000   \n",
       "25%    2095.000000    90.820000     0.000000     0.0     0.000000   \n",
       "50%    4220.000000    99.150000     0.000000     0.0     0.000000   \n",
       "75%    6314.000000   109.010000     0.000000     0.0     0.000000   \n",
       "max    8417.000000   265.320000     1.000000     0.0     1.000000   \n",
       "\n",
       "               X13          X14          X15          X16          X17  ...  \\\n",
       "count  4209.000000  4209.000000  4209.000000  4209.000000  4209.000000  ...   \n",
       "mean      0.057971     0.428130     0.000475     0.002613     0.007603  ...   \n",
       "std       0.233716     0.494867     0.021796     0.051061     0.086872  ...   \n",
       "min       0.000000     0.000000     0.000000     0.000000     0.000000  ...   \n",
       "25%       0.000000     0.000000     0.000000     0.000000     0.000000  ...   \n",
       "50%       0.000000     0.000000     0.000000     0.000000     0.000000  ...   \n",
       "75%       0.000000     1.000000     0.000000     0.000000     0.000000  ...   \n",
       "max       1.000000     1.000000     1.000000     1.000000     1.000000  ...   \n",
       "\n",
       "              X375         X376         X377         X378         X379  \\\n",
       "count  4209.000000  4209.000000  4209.000000  4209.000000  4209.000000   \n",
       "mean      0.318841     0.057258     0.314802     0.020670     0.009503   \n",
       "std       0.466082     0.232363     0.464492     0.142294     0.097033   \n",
       "min       0.000000     0.000000     0.000000     0.000000     0.000000   \n",
       "25%       0.000000     0.000000     0.000000     0.000000     0.000000   \n",
       "50%       0.000000     0.000000     0.000000     0.000000     0.000000   \n",
       "75%       1.000000     0.000000     1.000000     0.000000     0.000000   \n",
       "max       1.000000     1.000000     1.000000     1.000000     1.000000   \n",
       "\n",
       "              X380         X382         X383         X384         X385  \n",
       "count  4209.000000  4209.000000  4209.000000  4209.000000  4209.000000  \n",
       "mean      0.008078     0.007603     0.001663     0.000475     0.001426  \n",
       "std       0.089524     0.086872     0.040752     0.021796     0.037734  \n",
       "min       0.000000     0.000000     0.000000     0.000000     0.000000  \n",
       "25%       0.000000     0.000000     0.000000     0.000000     0.000000  \n",
       "50%       0.000000     0.000000     0.000000     0.000000     0.000000  \n",
       "75%       0.000000     0.000000     0.000000     0.000000     0.000000  \n",
       "max       1.000000     1.000000     1.000000     1.000000     1.000000  \n",
       "\n",
       "[8 rows x 370 columns]"
      ]
     },
     "execution_count": 13,
     "metadata": {},
     "output_type": "execute_result"
    }
   ],
   "source": [
    "df.describe()"
   ]
  },
  {
   "cell_type": "code",
   "execution_count": 14,
   "id": "d78b3435-95d6-4018-abb6-6729f7e7db11",
   "metadata": {},
   "outputs": [
    {
     "data": {
      "text/plain": [
       "ID    y       X0  X1  X2  X3  X4  X5  X6  X8  X10  X11  X12  X13  X14  X15  X16  X17  X18  X19  X20  X21  X22  X23  X24  X26  X27  X28  X29  X30  X31  X32  X33  X34  X35  X36  X37  X38  X39  X40  X41  X42  X43  X44  X45  X46  X47  X48  X49  X50  X51  X52  X53  X54  X55  X56  X57  X58  X59  X60  X61  X62  X63  X64  X65  X66  X67  X68  X69  X70  X71  X73  X74  X75  X76  X77  X78  X79  X80  X81  X82  X83  X84  X85  X86  X87  X88  X89  X90  X91  X92  X93  X94  X95  X96  X97  X98  X99  X100  X101  X102  X103  X104  X105  X106  X107  X108  X109  X110  X111  X112  X113  X114  X115  X116  X117  X118  X119  X120  X122  X123  X124  X125  X126  X127  X128  X129  X130  X131  X132  X133  X134  X135  X136  X137  X138  X139  X140  X141  X142  X143  X144  X145  X146  X147  X148  X150  X151  X152  X153  X154  X155  X156  X157  X158  X159  X160  X161  X162  X163  X164  X165  X166  X167  X168  X169  X170  X171  X172  X173  X174  X175  X176  X177  X178  X179  X180  X181  X182  X183  X184  X185  X186  X187  X189  X190  X191  X192  X194  X195  X196  X197  X198  X199  X200  X201  X202  X203  X204  X205  X206  X207  X208  X209  X210  X211  X212  X213  X214  X215  X216  X217  X218  X219  X220  X221  X222  X223  X224  X225  X226  X227  X228  X229  X230  X231  X232  X233  X234  X235  X236  X237  X238  X239  X240  X241  X242  X243  X244  X245  X246  X247  X248  X249  X250  X251  X252  X253  X254  X255  X256  X257  X258  X259  X260  X261  X262  X263  X264  X265  X266  X267  X268  X269  X270  X271  X272  X273  X274  X275  X276  X277  X278  X279  X280  X281  X282  X283  X284  X285  X286  X287  X288  X289  X290  X291  X292  X293  X294  X295  X296  X297  X298  X299  X300  X301  X302  X304  X305  X306  X307  X308  X309  X310  X311  X312  X313  X314  X315  X316  X317  X318  X319  X320  X321  X322  X323  X324  X325  X326  X327  X328  X329  X330  X331  X332  X333  X334  X335  X336  X337  X338  X339  X340  X341  X342  X343  X344  X345  X346  X347  X348  X349  X350  X351  X352  X353  X354  X355  X356  X357  X358  X359  X360  X361  X362  X363  X364  X365  X366  X367  X368  X369  X370  X371  X372  X373  X374  X375  X376  X377  X378  X379  X380  X382  X383  X384  X385\n",
       "0     130.81  k   v   at  a   d   u   j   o   0    0    0    1    0    0    0    0    1    0    0    1    0    0    0    0    0    0    0    0    1    0    0    0    1    0    1    0    0    0    0    0    0    0    0    1    0    0    0    0    0    0    0    0    0    0    0    1    0    0    0    0    0    0    0    0    0    1    0    1    0    0    1    0    0    0    0    0    0    0    0    0    0    1    0    0    0    0    0    0    0    0    0    0    0    0    0    0    0     0     0     0     0     0     0     0     0     0     0     1     0     0     1     0     1     0     1     1     1     0     0     0     0     0     0     1     0     0     1     0     0     0     0     1     1     0     0     0     0     1     0     1     0     0     0     0     1     0     0     0     0     0     1     0     0     0     0     0     0     0     0     0     0     0     0     0     1     0     0     0     0     0     0     0     0     1     0     0     0     0     1     0     0     1     1     0     0     0     1     0     0     0     0     0     0     0     0     0     1     0     0     0     0     1     0     0     0     0     0     0     0     0     0     0     1     0     0     0     0     0     0     0     0     0     0     0     0     0     1     0     0     1     0     0     0     0     0     0     0     0     0     0     0     0     0     0     0     0     0     0     0     0     0     0     0     0     1     1     0     0     1     0     0     0     0     0     0     1     0     1     0     0     0     0     0     0     0     0     0     1     0     0     0     0     0     0     0     0     0     0     0     0     0     0     0     0     0     0     0     1     0     0     0     0     0     0     0     0     0     1     0     0     0     0     0     0     0     1     0     0     1     0     1     0     0     0     0     1     0     0     0     0     0     0     0     0     0     0     0     0     0     0     0     0     0     0     0     1     0     0     0     0     0     0     1     0     0     0     0     0     0     0     0     0     0     0     0     0     0     0     1     0     0     0     0     0     0     0       1\n",
       "5600  111.48  j   aa  ay  c   d   p   l   s   1    0    0    0    0    0    0    0    0    0    0    0    0    0    0    0    1    0    0    0    0    0    0    0    0    0    0    0    0    0    0    0    1    0    0    0    0    0    0    0    1    0    0    0    0    0    0    1    0    0    1    0    0    0    0    0    0    0    0    1    0    0    1    0    0    0    0    0    1    0    0    0    0    0    0    0    0    0    0    0    0    0    0    0    1    0    1    0    0     1     0     1     0     0     0     0     0     0     0     1     0     0     0     0     0     0     1     1     1     0     0     0     0     0     0     1     0     0     0     1     0     0     0     1     1     0     0     0     0     1     0     1     0     0     0     0     1     0     0     0     0     0     0     1     0     0     0     0     0     1     0     0     0     0     0     0     0     1     0     0     0     0     0     0     1     0     0     0     0     0     0     0     1     0     1     0     0     0     0     0     0     0     0     0     0     1     0     0     0     1     0     0     0     1     0     0     0     0     0     0     0     0     0     0     0     0     0     1     0     0     0     0     0     1     0     0     0     0     0     0     0     0     1     0     0     0     0     0     0     0     0     0     0     0     1     0     0     0     0     0     1     0     0     0     0     1     0     1     0     1     0     0     0     0     0     0     0     0     0     1     0     0     0     0     0     0     0     0     0     0     0     0     0     0     0     0     0     0     0     0     0     0     0     0     0     0     0     1     0     0     0     0     0     0     1     0     0     1     0     0     0     0     0     0     0     0     0     1     0     0     0     0     1     0     0     0     0     0     0     0     1     0     0     0     0     0     0     0     0     0     0     1     0     0     0     0     0     0     1     0     0     0     0     0     1     1     1     0     0     0     0     0     0     0     0     0     0     0     1     0     0     0     0     0     0     0     0     0       1\n",
       "5604  108.25  v   c   as  a   d   p   j   y   0    0    0    0    1    0    0    0    0    0    0    0    0    0    0    0    1    0    0    0    0    0    0    0    0    0    0    0    0    0    0    0    0    0    0    0    0    0    1    1    1    0    0    0    0    0    0    0    0    0    1    0    0    1    0    0    0    0    0    1    0    1    1    1    0    0    0    0    1    0    0    0    0    1    0    0    0    0    0    0    0    0    0    0    1    0    1    0    1     1     0     1     0     0     0     0     0     0     0     1     0     0     0     1     1     0     0     0     1     0     0     0     0     0     0     1     1     0     0     1     0     0     0     1     0     0     0     0     0     1     0     1     0     0     0     0     1     0     0     0     0     0     1     0     0     0     0     0     0     1     0     0     0     0     0     0     0     1     0     0     0     1     0     0     0     0     0     0     0     0     0     0     0     1     1     0     1     0     1     0     0     0     0     0     0     0     1     0     0     1     0     0     0     1     0     0     0     0     0     0     0     0     1     0     1     0     0     1     1     0     0     0     0     1     0     0     0     0     0     0     0     0     1     0     0     0     0     0     0     0     1     1     0     0     0     1     0     0     0     0     0     0     0     0     0     1     0     1     0     1     0     0     0     0     0     0     0     1     0     1     0     0     0     0     0     0     0     0     1     0     0     0     0     0     0     0     0     0     0     0     0     0     0     0     1     0     0     1     0     0     0     0     0     0     0     0     0     1     0     0     0     0     0     0     0     0     0     0     0     0     1     0     0     0     0     0     0     1     0     0     0     0     0     0     0     0     0     0     0     0     0     1     0     1     0     0     0     0     0     1     0     1     1     0     1     0     1     0     0     0     0     0     0     0     0     0     0     0     0     0     1     0     0     0     0     0     0     0       1\n",
       "5606  109.37  ak  l   as  f   d   p   d   a   0    0    0    0    1    0    0    0    0    0    0    0    0    0    0    0    1    0    0    0    0    0    0    0    0    0    0    0    0    0    0    0    0    0    0    0    0    0    0    0    1    0    0    0    0    0    0    0    0    0    1    0    0    1    0    0    0    0    0    1    0    0    1    0    0    0    0    0    1    0    0    0    0    1    0    0    0    0    0    0    0    0    0    0    1    0    1    0    1     1     0     1     0     0     0     0     0     0     0     1     0     0     0     0     0     0     1     1     1     0     0     0     0     0     0     1     0     0     0     1     0     0     0     1     0     0     0     0     0     1     0     1     0     0     0     0     1     1     0     0     1     0     1     0     0     0     0     0     0     1     0     0     0     0     0     0     0     1     0     0     0     0     0     0     0     0     0     0     0     0     0     0     0     1     1     0     1     0     1     0     0     0     0     0     0     0     0     0     0     1     0     0     0     1     0     0     0     0     0     0     0     0     0     0     1     0     0     1     1     0     0     0     0     1     0     0     0     0     0     0     0     0     1     0     0     0     0     0     0     0     1     0     0     0     0     1     0     0     0     0     0     0     0     0     0     1     0     1     0     1     0     0     0     0     0     0     0     1     0     1     0     0     0     0     0     0     0     1     0     0     0     0     0     0     0     0     0     0     0     0     0     0     0     0     1     0     0     1     0     0     0     0     0     0     1     0     0     1     0     0     0     0     0     0     1     0     0     0     0     0     0     0     0     0     0     0     0     0     0     0     1     0     0     0     0     0     0     0     0     0     0     1     0     1     1     0     0     0     0     0     0     1     0     0     1     0     1     0     0     0     0     0     0     0     0     0     0     1     0     0     0     0     0     0     0     0     0     0       1\n",
       "5611  75.41   az  v   n   f   d   p   j   f   0    0    0    0    0    0    0    0    0    0    0    0    0    0    0    0    1    1    1    0    1    0    0    0    1    0    1    0    0    0    0    0    1    0    0    1    0    0    0    0    0    0    0    1    0    0    0    0    0    0    1    0    0    0    0    0    0    0    0    1    0    0    1    0    1    0    0    0    1    0    0    0    0    0    0    0    0    0    0    0    0    0    0    0    1    0    1    0    0     1     0     0     0     0     0     0     1     0     0     1     0     0     1     0     0     0     0     0     1     0     0     0     0     0     0     1     0     0     0     1     0     0     0     0     0     0     0     0     0     0     0     1     0     0     0     1     1     0     0     0     0     0     0     1     1     0     0     0     1     0     0     0     1     0     0     0     0     0     0     0     0     0     0     0     1     0     0     0     0     0     0     0     0     0     0     0     0     0     1     0     0     0     0     0     0     0     0     0     0     1     0     0     0     1     0     0     0     0     0     0     0     0     1     0     1     0     0     1     0     0     0     0     0     1     0     0     1     0     0     0     0     0     0     0     0     0     0     0     0     0     1     0     0     0     1     0     0     0     0     0     1     0     0     0     0     0     0     0     0     0     0     0     0     0     0     0     1     1     0     0     1     0     0     1     0     0     0     0     0     0     1     0     0     0     0     0     0     0     0     0     0     0     0     0     0     0     0     1     0     0     0     0     0     0     0     0     0     0     0     0     0     0     0     0     0     0     0     0     0     0     0     1     0     0     0     0     0     1     0     0     0     0     0     0     0     0     0     0     0     0     0     1     0     1     0     0     0     0     0     0     0     1     0     0     1     0     1     0     0     0     0     0     0     0     1     0     0     0     0     0     0     0     0     0     0     0     0     0       1\n",
       "                                                                                                                                                                                                                                                                                                                                                                                                                                                                                                                                                                                                                                                                                                                                                                                                                                                                                                                                                                                                                                                                                                                                                                                                                                                                                                                                                                                                                                                                                                                                                                                                                                                                                                                                                                                                                                                                                                                                                                                                                                                                                                                                                                                                                                                       ..\n",
       "2788  108.57  c   f   aq  d   d   ac  a   i   0    0    0    0    0    0    0    0    0    0    1    0    0    0    0    0    0    0    0    0    0    0    0    0    0    0    0    0    0    0    0    0    0    0    0    1    0    0    0    1    1    0    0    0    0    0    0    1    0    0    1    0    0    0    0    0    0    0    0    1    0    0    1    0    0    0    0    0    1    0    0    0    0    0    0    0    0    0    0    0    0    0    0    0    1    0    1    0    1     1     0     1     0     0     0     0     0     0     0     1     0     0     1     0     0     0     1     1     1     0     0     0     0     0     0     1     0     0     0     1     0     0     0     1     1     0     0     0     0     1     0     1     0     0     0     1     1     0     0     0     0     0     0     1     0     0     0     0     0     1     0     0     0     0     0     0     0     1     0     0     0     0     0     0     1     0     0     0     0     0     0     0     1     0     1     0     1     0     0     0     0     0     0     0     0     1     0     0     0     1     0     0     0     1     0     1     0     0     0     0     0     0     0     0     1     1     0     1     0     1     0     0     0     1     0     0     0     0     0     0     0     0     1     0     0     0     0     0     0     0     0     0     0     0     1     0     0     0     0     0     0     0     0     0     0     0     0     1     0     1     0     0     0     0     0     0     0     1     0     1     0     0     0     0     0     0     0     0     0     0     0     0     0     0     0     0     0     0     0     0     0     0     0     0     0     0     0     1     0     0     0     0     0     0     1     0     0     0     1     0     0     0     0     0     0     1     0     1     0     0     0     0     1     0     0     0     0     1     0     0     0     0     0     0     0     0     0     0     0     0     0     1     0     0     0     0     0     1     1     0     0     0     0     0     1     1     1     0     0     0     0     0     0     0     0     0     0     0     1     0     0     0     0     0     0     0     0     0       1\n",
       "2790  88.55   t   b   m   a   d   ac  g   f   0    0    0    0    0    0    0    0    0    0    0    0    1    0    0    0    1    0    0    0    1    0    0    0    1    0    1    0    0    0    0    0    0    0    1    0    0    0    0    0    1    0    0    0    0    0    0    0    0    0    1    0    0    0    0    0    0    0    0    1    0    0    1    0    0    0    0    0    1    0    0    0    0    0    0    0    0    0    0    0    0    0    0    0    1    0    1    0    0     1     0     0     0     0     0     0     0     0     0     1     0     0     0     0     0     0     1     1     1     0     0     0     0     0     1     1     0     0     0     0     1     0     0     1     0     0     1     0     0     1     0     0     0     0     0     0     1     0     0     0     0     0     0     1     0     0     0     1     0     0     0     0     0     0     0     0     0     1     0     0     0     0     0     0     1     0     0     1     0     0     0     0     1     0     1     0     0     0     0     0     0     0     0     0     0     0     1     0     0     1     0     0     0     1     0     0     0     0     0     0     0     0     0     0     1     0     0     0     0     0     0     0     0     1     0     0     0     0     1     0     0     0     1     0     0     0     0     0     0     0     0     1     0     0     1     0     0     0     0     0     0     0     0     0     0     0     0     1     0     1     0     0     0     0     0     0     0     1     0     1     0     0     0     0     0     0     0     0     0     0     0     0     0     0     0     0     0     0     0     0     0     0     0     0     0     0     0     1     0     0     0     0     0     0     1     0     0     0     0     1     0     0     0     0     0     0     0     0     0     0     0     0     0     0     0     0     0     1     0     0     0     0     0     0     0     0     0     0     0     0     0     1     0     0     0     0     0     0     1     1     0     0     0     0     1     1     1     0     0     0     0     0     0     0     0     0     0     0     0     0     1     0     0     0     0     0     0     0       1\n",
       "2791  114.83  ap  l   s   c   d   ac  j   h   0    0    0    0    0    0    0    0    0    0    0    0    0    0    0    0    0    0    0    0    1    0    0    0    1    0    1    0    0    0    0    0    0    0    0    1    0    1    1    1    1    1    0    0    0    0    0    1    0    0    0    0    0    0    0    1    0    1    0    1    1    0    1    1    0    0    0    0    0    0    0    0    1    1    0    0    0    0    0    0    0    0    0    0    1    0    0    0    0     0     0     0     0     0     0     0     0     0     0     0     0     1     1     0     0     0     1     1     0     0     0     0     0     1     0     0     1     1     0     0     0     1     0     1     1     0     0     0     0     1     0     0     0     0     1     0     1     0     0     0     1     1     0     1     0     0     0     0     0     1     0     0     0     0     0     0     1     0     0     0     0     0     0     0     0     1     1     0     0     0     0     0     0     1     0     0     0     0     1     0     0     0     1     0     0     0     0     0     0     1     0     0     1     0     0     0     0     0     0     0     0     0     1     0     0     0     1     1     0     0     0     0     1     0     0     0     0     0     0     0     0     0     0     0     0     1     0     0     1     0     1     0     0     0     0     0     0     0     0     0     0     0     0     0     0     1     0     1     1     0     0     0     0     0     0     0     0     1     0     1     0     0     0     0     0     0     0     1     0     0     0     0     0     0     0     0     0     0     0     0     0     0     0     0     0     0     0     0     0     1     0     0     0     0     0     0     0     1     0     0     0     0     0     0     1     0     0     1     0     0     0     0     0     0     0     0     0     1     0     0     0     0     0     0     0     0     0     0     0     0     0     0     0     0     0     0     0     1     1     0     0     1     0     1     1     0     1     0     0     0     0     1     0     0     0     0     0     1     0     0     0     0     0     0     0     0     0     0       1\n",
       "2793  99.93   ay  aa  as  g   d   ac  d   v   0    0    0    0    1    0    0    0    0    0    0    0    0    0    0    0    1    0    0    0    0    0    0    0    0    0    0    0    0    0    0    0    0    0    0    0    0    0    0    0    1    0    0    0    0    0    0    1    0    0    1    0    0    1    0    0    0    0    0    1    0    0    1    0    0    0    0    0    1    0    0    0    0    0    0    0    0    0    0    0    0    0    0    0    1    0    1    0    1     1     0     1     0     0     0     0     0     1     0     1     0     0     0     1     1     0     0     0     1     0     0     0     0     0     0     1     0     0     0     1     0     0     0     1     1     0     0     0     0     1     0     1     0     0     0     0     1     0     0     0     0     0     1     0     0     0     0     0     0     0     0     0     0     0     0     0     0     1     0     0     0     0     0     1     0     0     0     0     0     0     0     0     1     0     1     0     1     0     0     0     0     0     0     0     0     1     0     0     0     1     0     0     0     1     0     0     0     0     0     0     0     0     1     0     1     0     0     1     1     0     0     0     0     1     0     0     0     0     0     0     0     0     1     0     0     0     0     0     0     0     0     0     0     0     0     1     0     0     0     0     0     0     0     0     0     1     0     1     0     1     0     0     0     0     0     0     0     1     0     0     0     0     0     0     0     0     0     0     0     0     0     0     0     0     0     0     0     0     1     0     0     0     0     0     1     0     0     1     0     0     0     0     0     0     0     0     0     1     0     0     0     0     0     0     0     0     0     1     0     0     0     0     1     0     0     0     0     0     0     0     1     0     0     0     0     0     0     0     0     0     0     1     0     0     1     0     0     0     1     0     0     0     0     0     1     1     1     0     0     0     0     0     0     0     0     0     0     0     1     0     0     0     0     0     0     0     0     0       1\n",
       "8417  110.85  z   r   ae  c   d   aa  g   w   0    0    0    0    0    0    0    0    0    0    1    0    0    0    0    0    0    0    0    0    0    0    0    0    0    0    0    0    0    0    0    0    0    0    0    1    0    0    0    0    1    0    0    0    0    0    0    1    0    0    1    0    0    1    0    0    0    0    0    1    0    0    1    0    0    0    0    0    1    1    0    0    0    0    0    0    0    0    0    0    0    0    0    0    1    0    1    0    1     1     0     1     0     0     0     0     0     0     0     1     0     0     0     0     0     0     1     1     1     0     0     0     0     0     1     1     0     0     0     1     0     0     0     1     1     0     0     0     0     1     0     1     0     0     0     0     1     0     0     0     0     0     1     0     0     0     0     0     0     0     0     0     0     0     1     0     0     0     0     0     0     0     0     0     1     0     0     0     0     0     0     0     1     0     1     0     0     0     0     0     0     0     0     0     0     0     0     0     0     1     0     0     0     1     0     0     0     0     0     0     0     0     0     0     0     0     0     0     0     0     0     0     0     1     0     0     0     0     0     0     0     0     1     0     0     0     0     0     0     0     0     0     0     0     1     0     0     0     0     0     0     0     0     0     0     0     0     1     0     1     0     0     0     0     0     0     0     1     0     1     0     0     0     0     0     0     0     0     0     0     0     0     0     0     0     0     0     0     0     0     0     0     0     0     0     0     0     1     0     0     0     0     0     0     1     0     1     0     0     0     0     0     0     0     1     0     0     1     0     0     0     0     0     0     0     0     0     0     0     0     1     0     0     0     0     1     0     0     0     0     0     1     0     1     0     0     0     0     1     0     0     0     0     0     1     1     1     0     0     0     0     0     0     0     0     0     0     0     1     0     0     0     0     0     0     0     0     0       1\n",
       "Name: count, Length: 4209, dtype: int64"
      ]
     },
     "execution_count": 14,
     "metadata": {},
     "output_type": "execute_result"
    }
   ],
   "source": [
    "df.value_counts()"
   ]
  },
  {
   "cell_type": "code",
   "execution_count": 17,
   "id": "40d009f0-1354-46a5-bb35-9536aa109511",
   "metadata": {},
   "outputs": [
    {
     "data": {
      "text/html": [
       "<div>\n",
       "<style scoped>\n",
       "    .dataframe tbody tr th:only-of-type {\n",
       "        vertical-align: middle;\n",
       "    }\n",
       "\n",
       "    .dataframe tbody tr th {\n",
       "        vertical-align: top;\n",
       "    }\n",
       "\n",
       "    .dataframe thead th {\n",
       "        text-align: right;\n",
       "    }\n",
       "</style>\n",
       "<table border=\"1\" class=\"dataframe\">\n",
       "  <thead>\n",
       "    <tr style=\"text-align: right;\">\n",
       "      <th></th>\n",
       "      <th>ID</th>\n",
       "      <th>y</th>\n",
       "      <th>X0</th>\n",
       "      <th>X1</th>\n",
       "      <th>X2</th>\n",
       "      <th>X3</th>\n",
       "      <th>X4</th>\n",
       "      <th>X5</th>\n",
       "      <th>X6</th>\n",
       "      <th>X8</th>\n",
       "      <th>...</th>\n",
       "      <th>X375</th>\n",
       "      <th>X376</th>\n",
       "      <th>X377</th>\n",
       "      <th>X378</th>\n",
       "      <th>X379</th>\n",
       "      <th>X380</th>\n",
       "      <th>X382</th>\n",
       "      <th>X383</th>\n",
       "      <th>X384</th>\n",
       "      <th>X385</th>\n",
       "    </tr>\n",
       "  </thead>\n",
       "  <tbody>\n",
       "    <tr>\n",
       "      <th>0</th>\n",
       "      <td>0</td>\n",
       "      <td>130.81</td>\n",
       "      <td>k</td>\n",
       "      <td>v</td>\n",
       "      <td>at</td>\n",
       "      <td>a</td>\n",
       "      <td>d</td>\n",
       "      <td>u</td>\n",
       "      <td>j</td>\n",
       "      <td>o</td>\n",
       "      <td>...</td>\n",
       "      <td>0</td>\n",
       "      <td>0</td>\n",
       "      <td>1</td>\n",
       "      <td>0</td>\n",
       "      <td>0</td>\n",
       "      <td>0</td>\n",
       "      <td>0</td>\n",
       "      <td>0</td>\n",
       "      <td>0</td>\n",
       "      <td>0</td>\n",
       "    </tr>\n",
       "    <tr>\n",
       "      <th>6</th>\n",
       "      <td>24</td>\n",
       "      <td>128.76</td>\n",
       "      <td>al</td>\n",
       "      <td>r</td>\n",
       "      <td>e</td>\n",
       "      <td>f</td>\n",
       "      <td>d</td>\n",
       "      <td>f</td>\n",
       "      <td>h</td>\n",
       "      <td>s</td>\n",
       "      <td>...</td>\n",
       "      <td>0</td>\n",
       "      <td>0</td>\n",
       "      <td>0</td>\n",
       "      <td>0</td>\n",
       "      <td>0</td>\n",
       "      <td>0</td>\n",
       "      <td>0</td>\n",
       "      <td>0</td>\n",
       "      <td>0</td>\n",
       "      <td>0</td>\n",
       "    </tr>\n",
       "    <tr>\n",
       "      <th>8</th>\n",
       "      <td>27</td>\n",
       "      <td>108.67</td>\n",
       "      <td>w</td>\n",
       "      <td>s</td>\n",
       "      <td>as</td>\n",
       "      <td>e</td>\n",
       "      <td>d</td>\n",
       "      <td>f</td>\n",
       "      <td>i</td>\n",
       "      <td>h</td>\n",
       "      <td>...</td>\n",
       "      <td>1</td>\n",
       "      <td>0</td>\n",
       "      <td>0</td>\n",
       "      <td>0</td>\n",
       "      <td>0</td>\n",
       "      <td>0</td>\n",
       "      <td>0</td>\n",
       "      <td>0</td>\n",
       "      <td>0</td>\n",
       "      <td>0</td>\n",
       "    </tr>\n",
       "    <tr>\n",
       "      <th>9</th>\n",
       "      <td>30</td>\n",
       "      <td>126.99</td>\n",
       "      <td>j</td>\n",
       "      <td>b</td>\n",
       "      <td>aq</td>\n",
       "      <td>c</td>\n",
       "      <td>d</td>\n",
       "      <td>f</td>\n",
       "      <td>a</td>\n",
       "      <td>e</td>\n",
       "      <td>...</td>\n",
       "      <td>0</td>\n",
       "      <td>0</td>\n",
       "      <td>1</td>\n",
       "      <td>0</td>\n",
       "      <td>0</td>\n",
       "      <td>0</td>\n",
       "      <td>0</td>\n",
       "      <td>0</td>\n",
       "      <td>0</td>\n",
       "      <td>0</td>\n",
       "    </tr>\n",
       "    <tr>\n",
       "      <th>10</th>\n",
       "      <td>31</td>\n",
       "      <td>102.09</td>\n",
       "      <td>h</td>\n",
       "      <td>r</td>\n",
       "      <td>r</td>\n",
       "      <td>f</td>\n",
       "      <td>d</td>\n",
       "      <td>f</td>\n",
       "      <td>h</td>\n",
       "      <td>p</td>\n",
       "      <td>...</td>\n",
       "      <td>0</td>\n",
       "      <td>0</td>\n",
       "      <td>0</td>\n",
       "      <td>0</td>\n",
       "      <td>0</td>\n",
       "      <td>0</td>\n",
       "      <td>0</td>\n",
       "      <td>0</td>\n",
       "      <td>0</td>\n",
       "      <td>0</td>\n",
       "    </tr>\n",
       "    <tr>\n",
       "      <th>...</th>\n",
       "      <td>...</td>\n",
       "      <td>...</td>\n",
       "      <td>...</td>\n",
       "      <td>...</td>\n",
       "      <td>...</td>\n",
       "      <td>...</td>\n",
       "      <td>...</td>\n",
       "      <td>...</td>\n",
       "      <td>...</td>\n",
       "      <td>...</td>\n",
       "      <td>...</td>\n",
       "      <td>...</td>\n",
       "      <td>...</td>\n",
       "      <td>...</td>\n",
       "      <td>...</td>\n",
       "      <td>...</td>\n",
       "      <td>...</td>\n",
       "      <td>...</td>\n",
       "      <td>...</td>\n",
       "      <td>...</td>\n",
       "      <td>...</td>\n",
       "    </tr>\n",
       "    <tr>\n",
       "      <th>4202</th>\n",
       "      <td>8402</td>\n",
       "      <td>123.34</td>\n",
       "      <td>ap</td>\n",
       "      <td>l</td>\n",
       "      <td>s</td>\n",
       "      <td>c</td>\n",
       "      <td>d</td>\n",
       "      <td>aa</td>\n",
       "      <td>d</td>\n",
       "      <td>r</td>\n",
       "      <td>...</td>\n",
       "      <td>0</td>\n",
       "      <td>0</td>\n",
       "      <td>0</td>\n",
       "      <td>0</td>\n",
       "      <td>0</td>\n",
       "      <td>0</td>\n",
       "      <td>0</td>\n",
       "      <td>0</td>\n",
       "      <td>0</td>\n",
       "      <td>0</td>\n",
       "    </tr>\n",
       "    <tr>\n",
       "      <th>4204</th>\n",
       "      <td>8405</td>\n",
       "      <td>107.39</td>\n",
       "      <td>ak</td>\n",
       "      <td>s</td>\n",
       "      <td>as</td>\n",
       "      <td>c</td>\n",
       "      <td>d</td>\n",
       "      <td>aa</td>\n",
       "      <td>d</td>\n",
       "      <td>q</td>\n",
       "      <td>...</td>\n",
       "      <td>1</td>\n",
       "      <td>0</td>\n",
       "      <td>0</td>\n",
       "      <td>0</td>\n",
       "      <td>0</td>\n",
       "      <td>0</td>\n",
       "      <td>0</td>\n",
       "      <td>0</td>\n",
       "      <td>0</td>\n",
       "      <td>0</td>\n",
       "    </tr>\n",
       "    <tr>\n",
       "      <th>4205</th>\n",
       "      <td>8406</td>\n",
       "      <td>108.77</td>\n",
       "      <td>j</td>\n",
       "      <td>o</td>\n",
       "      <td>t</td>\n",
       "      <td>d</td>\n",
       "      <td>d</td>\n",
       "      <td>aa</td>\n",
       "      <td>h</td>\n",
       "      <td>h</td>\n",
       "      <td>...</td>\n",
       "      <td>0</td>\n",
       "      <td>1</td>\n",
       "      <td>0</td>\n",
       "      <td>0</td>\n",
       "      <td>0</td>\n",
       "      <td>0</td>\n",
       "      <td>0</td>\n",
       "      <td>0</td>\n",
       "      <td>0</td>\n",
       "      <td>0</td>\n",
       "    </tr>\n",
       "    <tr>\n",
       "      <th>4206</th>\n",
       "      <td>8412</td>\n",
       "      <td>109.22</td>\n",
       "      <td>ak</td>\n",
       "      <td>v</td>\n",
       "      <td>r</td>\n",
       "      <td>a</td>\n",
       "      <td>d</td>\n",
       "      <td>aa</td>\n",
       "      <td>g</td>\n",
       "      <td>e</td>\n",
       "      <td>...</td>\n",
       "      <td>0</td>\n",
       "      <td>0</td>\n",
       "      <td>1</td>\n",
       "      <td>0</td>\n",
       "      <td>0</td>\n",
       "      <td>0</td>\n",
       "      <td>0</td>\n",
       "      <td>0</td>\n",
       "      <td>0</td>\n",
       "      <td>0</td>\n",
       "    </tr>\n",
       "    <tr>\n",
       "      <th>4208</th>\n",
       "      <td>8417</td>\n",
       "      <td>110.85</td>\n",
       "      <td>z</td>\n",
       "      <td>r</td>\n",
       "      <td>ae</td>\n",
       "      <td>c</td>\n",
       "      <td>d</td>\n",
       "      <td>aa</td>\n",
       "      <td>g</td>\n",
       "      <td>w</td>\n",
       "      <td>...</td>\n",
       "      <td>1</td>\n",
       "      <td>0</td>\n",
       "      <td>0</td>\n",
       "      <td>0</td>\n",
       "      <td>0</td>\n",
       "      <td>0</td>\n",
       "      <td>0</td>\n",
       "      <td>0</td>\n",
       "      <td>0</td>\n",
       "      <td>0</td>\n",
       "    </tr>\n",
       "  </tbody>\n",
       "</table>\n",
       "<p>2004 rows × 378 columns</p>\n",
       "</div>"
      ],
      "text/plain": [
       "        ID       y  X0 X1  X2 X3 X4  X5 X6 X8  ...  X375  X376  X377  X378  \\\n",
       "0        0  130.81   k  v  at  a  d   u  j  o  ...     0     0     1     0   \n",
       "6       24  128.76  al  r   e  f  d   f  h  s  ...     0     0     0     0   \n",
       "8       27  108.67   w  s  as  e  d   f  i  h  ...     1     0     0     0   \n",
       "9       30  126.99   j  b  aq  c  d   f  a  e  ...     0     0     1     0   \n",
       "10      31  102.09   h  r   r  f  d   f  h  p  ...     0     0     0     0   \n",
       "...    ...     ...  .. ..  .. .. ..  .. .. ..  ...   ...   ...   ...   ...   \n",
       "4202  8402  123.34  ap  l   s  c  d  aa  d  r  ...     0     0     0     0   \n",
       "4204  8405  107.39  ak  s  as  c  d  aa  d  q  ...     1     0     0     0   \n",
       "4205  8406  108.77   j  o   t  d  d  aa  h  h  ...     0     1     0     0   \n",
       "4206  8412  109.22  ak  v   r  a  d  aa  g  e  ...     0     0     1     0   \n",
       "4208  8417  110.85   z  r  ae  c  d  aa  g  w  ...     1     0     0     0   \n",
       "\n",
       "      X379  X380  X382  X383  X384  X385  \n",
       "0        0     0     0     0     0     0  \n",
       "6        0     0     0     0     0     0  \n",
       "8        0     0     0     0     0     0  \n",
       "9        0     0     0     0     0     0  \n",
       "10       0     0     0     0     0     0  \n",
       "...    ...   ...   ...   ...   ...   ...  \n",
       "4202     0     0     0     0     0     0  \n",
       "4204     0     0     0     0     0     0  \n",
       "4205     0     0     0     0     0     0  \n",
       "4206     0     0     0     0     0     0  \n",
       "4208     0     0     0     0     0     0  \n",
       "\n",
       "[2004 rows x 378 columns]"
      ]
     },
     "execution_count": 17,
     "metadata": {},
     "output_type": "execute_result"
    }
   ],
   "source": [
    "df[df['y']>100]"
   ]
  },
  {
   "cell_type": "code",
   "execution_count": 20,
   "id": "18b236ed-115f-43f4-824c-f1feb3ecbacf",
   "metadata": {},
   "outputs": [
    {
     "data": {
      "text/html": [
       "<div>\n",
       "<style scoped>\n",
       "    .dataframe tbody tr th:only-of-type {\n",
       "        vertical-align: middle;\n",
       "    }\n",
       "\n",
       "    .dataframe tbody tr th {\n",
       "        vertical-align: top;\n",
       "    }\n",
       "\n",
       "    .dataframe thead th {\n",
       "        text-align: right;\n",
       "    }\n",
       "</style>\n",
       "<table border=\"1\" class=\"dataframe\">\n",
       "  <thead>\n",
       "    <tr style=\"text-align: right;\">\n",
       "      <th></th>\n",
       "      <th>X0</th>\n",
       "      <th>X1</th>\n",
       "      <th>X2</th>\n",
       "      <th>X3</th>\n",
       "      <th>X4</th>\n",
       "      <th>X5</th>\n",
       "    </tr>\n",
       "  </thead>\n",
       "  <tbody>\n",
       "    <tr>\n",
       "      <th>0</th>\n",
       "      <td>k</td>\n",
       "      <td>v</td>\n",
       "      <td>at</td>\n",
       "      <td>a</td>\n",
       "      <td>d</td>\n",
       "      <td>u</td>\n",
       "    </tr>\n",
       "    <tr>\n",
       "      <th>1</th>\n",
       "      <td>k</td>\n",
       "      <td>t</td>\n",
       "      <td>av</td>\n",
       "      <td>e</td>\n",
       "      <td>d</td>\n",
       "      <td>y</td>\n",
       "    </tr>\n",
       "    <tr>\n",
       "      <th>2</th>\n",
       "      <td>az</td>\n",
       "      <td>w</td>\n",
       "      <td>n</td>\n",
       "      <td>c</td>\n",
       "      <td>d</td>\n",
       "      <td>x</td>\n",
       "    </tr>\n",
       "    <tr>\n",
       "      <th>3</th>\n",
       "      <td>az</td>\n",
       "      <td>t</td>\n",
       "      <td>n</td>\n",
       "      <td>f</td>\n",
       "      <td>d</td>\n",
       "      <td>x</td>\n",
       "    </tr>\n",
       "    <tr>\n",
       "      <th>4</th>\n",
       "      <td>az</td>\n",
       "      <td>v</td>\n",
       "      <td>n</td>\n",
       "      <td>f</td>\n",
       "      <td>d</td>\n",
       "      <td>h</td>\n",
       "    </tr>\n",
       "  </tbody>\n",
       "</table>\n",
       "</div>"
      ],
      "text/plain": [
       "   X0 X1  X2 X3 X4 X5\n",
       "0   k  v  at  a  d  u\n",
       "1   k  t  av  e  d  y\n",
       "2  az  w   n  c  d  x\n",
       "3  az  t   n  f  d  x\n",
       "4  az  v   n  f  d  h"
      ]
     },
     "execution_count": 20,
     "metadata": {},
     "output_type": "execute_result"
    }
   ],
   "source": [
    "df=pd.read_csv('train.csv',usecols=['X0','X1','X2','X3','X4','X5'])\n",
    "df.head()"
   ]
  },
  {
   "cell_type": "markdown",
   "id": "bdd0d91f-3bcc-4aaa-b07d-d6a42d20814a",
   "metadata": {},
   "source": [
    "## HTML"
   ]
  },
  {
   "cell_type": "code",
   "execution_count": 43,
   "id": "e4db0353-2312-4211-b5e4-372bc448cfb7",
   "metadata": {},
   "outputs": [],
   "source": [
    "html=pd.read_html(\"https://en.wikipedia.org/wiki/Economy_of_the_United_States\" ,match=\"Government debt\")"
   ]
  },
  {
   "cell_type": "code",
   "execution_count": 30,
   "id": "4f6c7748-7127-4b0e-9685-5af4c50afff3",
   "metadata": {},
   "outputs": [
    {
     "data": {
      "text/plain": [
       "list"
      ]
     },
     "execution_count": 30,
     "metadata": {},
     "output_type": "execute_result"
    }
   ],
   "source": [
    "type(html)"
   ]
  },
  {
   "cell_type": "code",
   "execution_count": 44,
   "id": "7b078a6c-7390-4901-870b-8342c7908a50",
   "metadata": {},
   "outputs": [
    {
     "data": {
      "text/plain": [
       "[                                                    0  \\\n",
       " 0   New York City, the world's principal fintech a...   \n",
       " 1                                            Currency   \n",
       " 2                                         Fiscal year   \n",
       " 3                                 Trade organizations   \n",
       " 4                                       Country group   \n",
       " 5                                          Statistics   \n",
       " 6                                          Population   \n",
       " 7                                                 GDP   \n",
       " 8                                            GDP rank   \n",
       " 9                                          GDP growth   \n",
       " 10                                     GDP per capita   \n",
       " 11                                GDP per capita rank   \n",
       " 12                                      GDP by sector   \n",
       " 13                                   GDP by component   \n",
       " 14                                    Inflation (CPI)   \n",
       " 15                      Population below poverty line   \n",
       " 16                                   Gini coefficient   \n",
       " 17                            Human Development Index   \n",
       " 18                       Corruption Perceptions Index   \n",
       " 19                                        Labor force   \n",
       " 20                          Labor force by occupation   \n",
       " 21                                       Unemployment   \n",
       " 22                               Average gross salary   \n",
       " 23                                 Average net salary   \n",
       " 24                      Final consumption expenditure   \n",
       " 25                            Gross capital formation   \n",
       " 26                                        Yield curve   \n",
       " 27                         Purchasing Managers' Index   \n",
       " 28                                    Main industries   \n",
       " 29                                           External   \n",
       " 30                                            Exports   \n",
       " 31                                       Export goods   \n",
       " 32                               Main export partners   \n",
       " 33                                            Imports   \n",
       " 34                                       Import goods   \n",
       " 35                               Main import partners   \n",
       " 36                                          FDI stock   \n",
       " 37                                    Current account   \n",
       " 38                                Gross external debt   \n",
       " 39                                    Public finances   \n",
       " 40                                    Government debt   \n",
       " 41                                     Budget balance   \n",
       " 42                                           Revenues   \n",
       " 43                                           Expenses   \n",
       " 44                                       Economic aid   \n",
       " 45                                      Credit rating   \n",
       " 46                                   Foreign reserves   \n",
       " 47  All values, unless otherwise stated, are in US...   \n",
       " \n",
       "                                                     1  \n",
       " 0   New York City, the world's principal fintech a...  \n",
       " 1          United States dollar (USD) US Dollar Index  \n",
       " 2                            October 1 – September 30  \n",
       " 3         WTO, G-20, G7, OECD, USMCA, APEC and others  \n",
       " 4   Advanced economy[4] High-income economy[5] Div...  \n",
       " 5                                          Statistics  \n",
       " 6                    340,332,281 (August 30, 2023)[9]  \n",
       " 7   $28.78 trillion (nominal; 2024)[10]  $28.78 tr...  \n",
       " 8                 1st (nominal; 2024) 2nd (PPP; 2024)  \n",
       " 9     2.1% (2022)[11] 2.5% (2023)[11] 2.7% (2024)[11]  \n",
       " 10  $85,373 (nominal; 2024)[10]  $85,373 (PPP; 202...  \n",
       " 11                6th (nominal; 2024) 8th (PPP; 2024)  \n",
       " 12  Agriculture: 0.9% Industry: 18.9% Services: 80...  \n",
       " 13  Household consumption: 67.9% Government consum...  \n",
       " 14                                      3% (2023)[13]  \n",
       " 15          11.5% (2022)[14]  37.9 million (2022)[14]  \n",
       " 16  46.7 high (2022, USCB)[15] 41.7 medium (2020, ...  \n",
       " 17  0.927 very high (2022)[17] (20th)  0.823 very ...  \n",
       " 18        69 out of 100 points (2023)[18] (rank 24th)  \n",
       " 19  161,200,000 (2023)[19] 62.4% employment rate (...  \n",
       " 20  Agriculture: 1.0% Industry: 19% Services: 80% ...  \n",
       " 21  4.3% (July 2024)[19]  12.4% youth unemployment...  \n",
       " 22                 $5,407 / €5,052 monthly[21] (2022)  \n",
       " 23             $4,066 / €3,799 monthly[22][23] (2022)  \n",
       " 24                            85.2% of GDP (2023)[12]  \n",
       " 25                            17.7% of GDP (2023)[12]  \n",
       " 26                10-year bond 5.09% (April 2024)[24]  \n",
       " 27  50.3 Manufacturing (Mar 2024)[25]  51.4 Servic...  \n",
       " 28  High-technologypetroleumsteelmotor vehiclesaer...  \n",
       " 29                                           External  \n",
       " 30                         $3.053 trillion (2023)[27]  \n",
       " 31  Agricultural products 10.7%Fuels and mining pr...  \n",
       " 32  European Union(-) 18.3% Canada(-) 17.5% Mexico...  \n",
       " 33                         $3.827 trillion (2023)[27]  \n",
       " 34  Agricultural products 10.5%Fuels and mining pr...  \n",
       " 35  European Union(+) 23.6% Mexico(+) 15.4% China(...  \n",
       " 36  Inward: $367 billion (2021)[31]  Outward: $403...  \n",
       " 37  −$985.25 billion (2022)[32]  −3.93% of GDP (20...  \n",
       " 38                            $27 trillion (2023)[33]  \n",
       " 39                                    Public finances  \n",
       " 40         $33.416 trillion  122.1% of GDP (2023)[32]  \n",
       " 41                            –5.5% of GDP (2022)[34]  \n",
       " 42            $8.371 trillion[32] 33.4% of GDP (2022)  \n",
       " 43  $9.379 trillion[32] 37.4% of GDP (2022) See Fe...  \n",
       " 44              donor: ODA, $35.26 billion (2017)[35]  \n",
       " 45  Standard & Poor's:[36][37] AA+ (Domestic) AA+ ...  \n",
       " 46                            $217 billion (2023)[41]  \n",
       " 47  All values, unless otherwise stated, are in US...  ,\n",
       "     Year  GDP (in Bil. US$PPP)  GDP per capita (in US$ PPP)  \\\n",
       " 0   1980                2857.3                      12552.9   \n",
       " 1   1981                3207.0                      13948.7   \n",
       " 2   1982                3343.8                      14405.0   \n",
       " 3   1983                3634.0                      15513.7   \n",
       " 4   1984                4037.7                      17086.4   \n",
       " 5   1985                4339.0                      18199.3   \n",
       " 6   1986                4579.6                      19034.8   \n",
       " 7   1987                4855.3                      20001.0   \n",
       " 8   1988                5236.4                      21376.0   \n",
       " 9   1989                5641.6                      22814.1   \n",
       " 10  1990                5963.1                      23848.0   \n",
       " 11  1991                6158.1                      24302.8   \n",
       " 12  1992                6520.3                      25392.9   \n",
       " 13  1993                6858.6                      26364.2   \n",
       " 14  1994                7287.3                      27674.0   \n",
       " 15  1995                7639.8                      28671.5   \n",
       " 16  1996                8073.1                      29947.0   \n",
       " 17  1997                8577.6                      31440.1   \n",
       " 18  1998                9062.8                      32833.7   \n",
       " 19  1999                9631.2                      34496.2   \n",
       " 20  2000               10251.0                      36312.8   \n",
       " 21  2001               10581.9                      37101.5   \n",
       " 22  2002               10929.1                      37945.8   \n",
       " 23  2003               11456.5                      39405.4   \n",
       " 24  2004               12217.2                      41641.6   \n",
       " 25  2005               13039.2                      44034.3   \n",
       " 26  2006               13815.6                      46216.9   \n",
       " 27  2007               14474.3                      47943.4   \n",
       " 28  2008               14769.9                      48470.6   \n",
       " 29  2009               14478.1                      47102.4   \n",
       " 30  2010               15049.0                      48586.3   \n",
       " 31  2011               15599.7                      50008.1   \n",
       " 32  2012               16254.0                      51736.7   \n",
       " 33  2013               16880.6                      53363.9   \n",
       " 34  2014               17608.1                      55263.8   \n",
       " 35  2015               18295.0                      57006.9   \n",
       " 36  2016               18804.9                      58179.6   \n",
       " 37  2017               19612.1                      60292.9   \n",
       " 38  2018               20656.5                      63165.2   \n",
       " 39  2019               21521.4                      65504.7   \n",
       " 40  2020               21322.9                      64367.4   \n",
       " 41  2021               23594.0                      70995.7   \n",
       " 42  2022               25744.1                      77191.8   \n",
       " 43  2023               27357.8                      81632.2   \n",
       " 44  2024               28781.0                      85372.6   \n",
       " 45  2025               29839.6                      87978.4   \n",
       " 46  2026               31018.7                      90902.7   \n",
       " 47  2027               32274.4                      94011.7   \n",
       " 48  2028               33582.2                      97230.6   \n",
       " \n",
       "     GDP (in Bil. US$nominal)  GDP per capita (in US$ nominal)  \\\n",
       " 0                     2857.3                          12552.9   \n",
       " 1                     3207.0                          13948.7   \n",
       " 2                     3343.8                          14405.0   \n",
       " 3                     3634.0                          15513.7   \n",
       " 4                     4037.7                          17086.4   \n",
       " 5                     4339.0                          18199.3   \n",
       " 6                     4579.6                          19034.8   \n",
       " 7                     4855.3                          20001.0   \n",
       " 8                     5236.4                          21376.0   \n",
       " 9                     5641.6                          22814.1   \n",
       " 10                    5963.1                          23848.0   \n",
       " 11                    6158.1                          24302.8   \n",
       " 12                    6520.3                          25392.9   \n",
       " 13                    6858.6                          26364.2   \n",
       " 14                    7287.3                          27674.0   \n",
       " 15                    7639.8                          28671.5   \n",
       " 16                    8073.1                          29947.0   \n",
       " 17                    8577.6                          31440.1   \n",
       " 18                    9062.8                          32833.7   \n",
       " 19                    9631.2                          34496.2   \n",
       " 20                   10251.0                          36312.8   \n",
       " 21                   10581.9                          37101.5   \n",
       " 22                   10929.1                          37945.8   \n",
       " 23                   11456.5                          39405.4   \n",
       " 24                   12217.2                          41641.6   \n",
       " 25                   13039.2                          44034.3   \n",
       " 26                   13815.6                          46216.9   \n",
       " 27                   14474.3                          47943.4   \n",
       " 28                   14769.9                          48470.6   \n",
       " 29                   14478.1                          47102.4   \n",
       " 30                   15049.0                          48586.3   \n",
       " 31                   15599.7                          50008.1   \n",
       " 32                   16254.0                          51736.7   \n",
       " 33                   16880.6                          53363.9   \n",
       " 34                   17608.1                          55263.8   \n",
       " 35                   18295.0                          57006.9   \n",
       " 36                   18804.9                          58179.6   \n",
       " 37                   19612.1                          60292.9   \n",
       " 38                   20656.5                          63165.2   \n",
       " 39                   21521.4                          65504.7   \n",
       " 40                   21322.9                          64367.4   \n",
       " 41                   23594.0                          70995.7   \n",
       " 42                   25744.1                          77191.8   \n",
       " 43                   27357.8                          81632.2   \n",
       " 44                   28781.0                          85372.6   \n",
       " 45                   29839.6                          87978.4   \n",
       " 46                   31018.7                          90902.7   \n",
       " 47                   32274.4                          94011.7   \n",
       " 48                   33582.2                          97230.6   \n",
       " \n",
       "    GDP growth (real) Inflation rate (in Percent) Unemployment (in Percent)  \\\n",
       " 0              -0.3%                       13.5%                      7.2%   \n",
       " 1               2.5%                       10.4%                      7.6%   \n",
       " 2              -1.8%                        6.2%                      9.7%   \n",
       " 3               4.6%                        3.2%                      9.6%   \n",
       " 4               7.2%                        4.4%                      7.5%   \n",
       " 5               4.2%                        3.5%                      7.2%   \n",
       " 6               3.5%                        1.9%                      7.0%   \n",
       " 7               3.5%                        3.6%                      6.2%   \n",
       " 8               4.2%                        4.1%                      5.5%   \n",
       " 9               3.7%                        4.8%                      5.3%   \n",
       " 10              1.9%                        5.4%                      5.6%   \n",
       " 11             -0.1%                        4.2%                      6.9%   \n",
       " 12              3.5%                        3.0%                      7.5%   \n",
       " 13              2.8%                        3.0%                      6.9%   \n",
       " 14              4.0%                        2.6%                      6.1%   \n",
       " 15              2.7%                        2.8%                      5.6%   \n",
       " 16              3.8%                        2.9%                      5.4%   \n",
       " 17              4.4%                        2.3%                      4.9%   \n",
       " 18              4.5%                        1.5%                      4.5%   \n",
       " 19              4.8%                        2.2%                      4.2%   \n",
       " 20              4.1%                        3.4%                      4.0%   \n",
       " 21              1.0%                        2.8%                      4.7%   \n",
       " 22              1.7%                        1.6%                      5.8%   \n",
       " 23              2.8%                        2.3%                      6.0%   \n",
       " 24              3.9%                        2.7%                      5.5%   \n",
       " 25              3.5%                        3.4%                      5.1%   \n",
       " 26              2.8%                        3.2%                      4.6%   \n",
       " 27              2.0%                        2.9%                      4.6%   \n",
       " 28              0.1%                        3.8%                      5.8%   \n",
       " 29             -2.6%                       -0.3%                      9.3%   \n",
       " 30              2.7%                        1.6%                      9.6%   \n",
       " 31              1.6%                        3.1%                      8.9%   \n",
       " 32              2.3%                        2.1%                      8.1%   \n",
       " 33              2.1%                        1.5%                      7.4%   \n",
       " 34              2.5%                        1.6%                      6.1%   \n",
       " 35              2.9%                        0.1%                      5.2%   \n",
       " 36              1.8%                        1.3%                      4.9%   \n",
       " 37              2.4%                        2.1%                      4.4%   \n",
       " 38              3.0%                        2.4%                      3.9%   \n",
       " 39              2.5%                        1.8%                      3.7%   \n",
       " 40             -2.2%                        1.2%                      8.1%   \n",
       " 41              5.8%                        4.7%                      5.4%   \n",
       " 42              2.0%                        8.0%                      3.6%   \n",
       " 43              2.5%                        4.1%                      3.6%   \n",
       " 44              2.7%                        2.9%                      4.0%   \n",
       " 45              1.8%                        2.0%                      4.2%   \n",
       " 46              2.0%                        2.0%                      4.2%   \n",
       " 47              2.1%                        2.1%                      4.2%   \n",
       " 48              2.1%                        2.1%                      4.1%   \n",
       " \n",
       "    Government debt (in % of GDP)  \n",
       " 0                            NaN  \n",
       " 1                            NaN  \n",
       " 2                            NaN  \n",
       " 3                            NaN  \n",
       " 4                            NaN  \n",
       " 5                            NaN  \n",
       " 6                            NaN  \n",
       " 7                            NaN  \n",
       " 8                            NaN  \n",
       " 9                            NaN  \n",
       " 10                           NaN  \n",
       " 11                           NaN  \n",
       " 12                           NaN  \n",
       " 13                           NaN  \n",
       " 14                           NaN  \n",
       " 15                           NaN  \n",
       " 16                           NaN  \n",
       " 17                           NaN  \n",
       " 18                           NaN  \n",
       " 19                           NaN  \n",
       " 20                           NaN  \n",
       " 21                         53.1%  \n",
       " 22                         55.5%  \n",
       " 23                         58.6%  \n",
       " 24                         66.2%  \n",
       " 25                         65.5%  \n",
       " 26                         64.2%  \n",
       " 27                         64.6%  \n",
       " 28                         73.5%  \n",
       " 29                         86.7%  \n",
       " 30                         95.2%  \n",
       " 31                         99.5%  \n",
       " 32                        103.1%  \n",
       " 33                        104.3%  \n",
       " 34                        104.2%  \n",
       " 35                        104.6%  \n",
       " 36                        106.5%  \n",
       " 37                        105.5%  \n",
       " 38                        106.8%  \n",
       " 39                        108.8%  \n",
       " 40                        132.0%  \n",
       " 41                        125.0%  \n",
       " 42                        121.7%  \n",
       " 43                        122.1%  \n",
       " 44                        123.2%  \n",
       " 45                        126.5%  \n",
       " 46                        128.8%  \n",
       " 47                        130.7%  \n",
       " 48                        132.5%  ]"
      ]
     },
     "execution_count": 44,
     "metadata": {},
     "output_type": "execute_result"
    }
   ],
   "source": [
    "html"
   ]
  },
  {
   "cell_type": "code",
   "execution_count": 45,
   "id": "375eb5e9-d3cd-4249-a66d-0619e960fd8a",
   "metadata": {},
   "outputs": [],
   "source": [
    "html=pd.read_html(\"https://en.wikipedia.org/wiki/Minnesota\" ,match=\"Average daily maximum and minimum temperatures for selected cities in Minnesota\")"
   ]
  },
  {
   "cell_type": "code",
   "execution_count": 48,
   "id": "9dd40cf3-5f8c-429b-a6d4-e0063ac9f9ed",
   "metadata": {},
   "outputs": [
    {
     "data": {
      "text/html": [
       "<div>\n",
       "<style scoped>\n",
       "    .dataframe tbody tr th:only-of-type {\n",
       "        vertical-align: middle;\n",
       "    }\n",
       "\n",
       "    .dataframe tbody tr th {\n",
       "        vertical-align: top;\n",
       "    }\n",
       "\n",
       "    .dataframe thead th {\n",
       "        text-align: right;\n",
       "    }\n",
       "</style>\n",
       "<table border=\"1\" class=\"dataframe\">\n",
       "  <thead>\n",
       "    <tr style=\"text-align: right;\">\n",
       "      <th></th>\n",
       "      <th>Location</th>\n",
       "      <th>July (°F)</th>\n",
       "      <th>July (°C)</th>\n",
       "      <th>January (°F)</th>\n",
       "      <th>January (°C)</th>\n",
       "    </tr>\n",
       "  </thead>\n",
       "  <tbody>\n",
       "    <tr>\n",
       "      <th>0</th>\n",
       "      <td>Minneapolis</td>\n",
       "      <td>83/64</td>\n",
       "      <td>28/18</td>\n",
       "      <td>23/7</td>\n",
       "      <td>−4/−13</td>\n",
       "    </tr>\n",
       "    <tr>\n",
       "      <th>1</th>\n",
       "      <td>Saint Paul</td>\n",
       "      <td>83/63</td>\n",
       "      <td>28/17</td>\n",
       "      <td>23/6</td>\n",
       "      <td>−5/−14</td>\n",
       "    </tr>\n",
       "    <tr>\n",
       "      <th>2</th>\n",
       "      <td>Rochester</td>\n",
       "      <td>82/63</td>\n",
       "      <td>28/17</td>\n",
       "      <td>23/3</td>\n",
       "      <td>−5/−16</td>\n",
       "    </tr>\n",
       "    <tr>\n",
       "      <th>3</th>\n",
       "      <td>Duluth</td>\n",
       "      <td>76/55</td>\n",
       "      <td>24/13</td>\n",
       "      <td>19/1</td>\n",
       "      <td>−7/−17</td>\n",
       "    </tr>\n",
       "    <tr>\n",
       "      <th>4</th>\n",
       "      <td>St. Cloud</td>\n",
       "      <td>81/58</td>\n",
       "      <td>27/14</td>\n",
       "      <td>18/−1</td>\n",
       "      <td>−7/−18</td>\n",
       "    </tr>\n",
       "    <tr>\n",
       "      <th>5</th>\n",
       "      <td>Mankato</td>\n",
       "      <td>86/62</td>\n",
       "      <td>30/16</td>\n",
       "      <td>23/3</td>\n",
       "      <td>−5/−16</td>\n",
       "    </tr>\n",
       "    <tr>\n",
       "      <th>6</th>\n",
       "      <td>International Falls</td>\n",
       "      <td>77/52</td>\n",
       "      <td>25/11</td>\n",
       "      <td>15/−6</td>\n",
       "      <td>−9/−21</td>\n",
       "    </tr>\n",
       "  </tbody>\n",
       "</table>\n",
       "</div>"
      ],
      "text/plain": [
       "              Location July (°F) July (°C) January (°F) January (°C)\n",
       "0          Minneapolis     83/64     28/18         23/7       −4/−13\n",
       "1           Saint Paul     83/63     28/17         23/6       −5/−14\n",
       "2            Rochester     82/63     28/17         23/3       −5/−16\n",
       "3               Duluth     76/55     24/13         19/1       −7/−17\n",
       "4            St. Cloud     81/58     27/14        18/−1       −7/−18\n",
       "5              Mankato     86/62     30/16         23/3       −5/−16\n",
       "6  International Falls     77/52     25/11        15/−6       −9/−21"
      ]
     },
     "execution_count": 48,
     "metadata": {},
     "output_type": "execute_result"
    }
   ],
   "source": [
    "html[0]"
   ]
  },
  {
   "cell_type": "markdown",
   "id": "293ada6b-96c2-4360-b331-dc7ba6f30b18",
   "metadata": {},
   "source": [
    "## XML"
   ]
  },
  {
   "cell_type": "code",
   "execution_count": null,
   "id": "21e2862e-ed5a-4d3b-bcc0-e9d1aa576d56",
   "metadata": {},
   "outputs": [],
   "source": [
    "pd.read_xml(namespace=)"
   ]
  },
  {
   "cell_type": "markdown",
   "id": "3f7f4e77-c2f7-4f38-bf34-f42a5a94a06d",
   "metadata": {},
   "source": [
    "## Seaborn"
   ]
  },
  {
   "cell_type": "code",
   "execution_count": 1,
   "id": "95a3b624-2374-4c6b-8c55-6f606197492d",
   "metadata": {},
   "outputs": [],
   "source": [
    "import seaborn as sns"
   ]
  },
  {
   "cell_type": "code",
   "execution_count": 2,
   "id": "059bc9c4-bd5e-410a-9cf1-457df9a17cce",
   "metadata": {},
   "outputs": [],
   "source": [
    "iris=sns.load_dataset(\"iris\")"
   ]
  },
  {
   "cell_type": "code",
   "execution_count": 3,
   "id": "9d8ac309-6fd9-44c1-8989-3d5b9daae904",
   "metadata": {},
   "outputs": [
    {
     "data": {
      "text/html": [
       "<div>\n",
       "<style scoped>\n",
       "    .dataframe tbody tr th:only-of-type {\n",
       "        vertical-align: middle;\n",
       "    }\n",
       "\n",
       "    .dataframe tbody tr th {\n",
       "        vertical-align: top;\n",
       "    }\n",
       "\n",
       "    .dataframe thead th {\n",
       "        text-align: right;\n",
       "    }\n",
       "</style>\n",
       "<table border=\"1\" class=\"dataframe\">\n",
       "  <thead>\n",
       "    <tr style=\"text-align: right;\">\n",
       "      <th></th>\n",
       "      <th>sepal_length</th>\n",
       "      <th>sepal_width</th>\n",
       "      <th>petal_length</th>\n",
       "      <th>petal_width</th>\n",
       "      <th>species</th>\n",
       "    </tr>\n",
       "  </thead>\n",
       "  <tbody>\n",
       "    <tr>\n",
       "      <th>0</th>\n",
       "      <td>5.1</td>\n",
       "      <td>3.5</td>\n",
       "      <td>1.4</td>\n",
       "      <td>0.2</td>\n",
       "      <td>setosa</td>\n",
       "    </tr>\n",
       "    <tr>\n",
       "      <th>1</th>\n",
       "      <td>4.9</td>\n",
       "      <td>3.0</td>\n",
       "      <td>1.4</td>\n",
       "      <td>0.2</td>\n",
       "      <td>setosa</td>\n",
       "    </tr>\n",
       "    <tr>\n",
       "      <th>2</th>\n",
       "      <td>4.7</td>\n",
       "      <td>3.2</td>\n",
       "      <td>1.3</td>\n",
       "      <td>0.2</td>\n",
       "      <td>setosa</td>\n",
       "    </tr>\n",
       "    <tr>\n",
       "      <th>3</th>\n",
       "      <td>4.6</td>\n",
       "      <td>3.1</td>\n",
       "      <td>1.5</td>\n",
       "      <td>0.2</td>\n",
       "      <td>setosa</td>\n",
       "    </tr>\n",
       "    <tr>\n",
       "      <th>4</th>\n",
       "      <td>5.0</td>\n",
       "      <td>3.6</td>\n",
       "      <td>1.4</td>\n",
       "      <td>0.2</td>\n",
       "      <td>setosa</td>\n",
       "    </tr>\n",
       "    <tr>\n",
       "      <th>...</th>\n",
       "      <td>...</td>\n",
       "      <td>...</td>\n",
       "      <td>...</td>\n",
       "      <td>...</td>\n",
       "      <td>...</td>\n",
       "    </tr>\n",
       "    <tr>\n",
       "      <th>145</th>\n",
       "      <td>6.7</td>\n",
       "      <td>3.0</td>\n",
       "      <td>5.2</td>\n",
       "      <td>2.3</td>\n",
       "      <td>virginica</td>\n",
       "    </tr>\n",
       "    <tr>\n",
       "      <th>146</th>\n",
       "      <td>6.3</td>\n",
       "      <td>2.5</td>\n",
       "      <td>5.0</td>\n",
       "      <td>1.9</td>\n",
       "      <td>virginica</td>\n",
       "    </tr>\n",
       "    <tr>\n",
       "      <th>147</th>\n",
       "      <td>6.5</td>\n",
       "      <td>3.0</td>\n",
       "      <td>5.2</td>\n",
       "      <td>2.0</td>\n",
       "      <td>virginica</td>\n",
       "    </tr>\n",
       "    <tr>\n",
       "      <th>148</th>\n",
       "      <td>6.2</td>\n",
       "      <td>3.4</td>\n",
       "      <td>5.4</td>\n",
       "      <td>2.3</td>\n",
       "      <td>virginica</td>\n",
       "    </tr>\n",
       "    <tr>\n",
       "      <th>149</th>\n",
       "      <td>5.9</td>\n",
       "      <td>3.0</td>\n",
       "      <td>5.1</td>\n",
       "      <td>1.8</td>\n",
       "      <td>virginica</td>\n",
       "    </tr>\n",
       "  </tbody>\n",
       "</table>\n",
       "<p>150 rows × 5 columns</p>\n",
       "</div>"
      ],
      "text/plain": [
       "     sepal_length  sepal_width  petal_length  petal_width    species\n",
       "0             5.1          3.5           1.4          0.2     setosa\n",
       "1             4.9          3.0           1.4          0.2     setosa\n",
       "2             4.7          3.2           1.3          0.2     setosa\n",
       "3             4.6          3.1           1.5          0.2     setosa\n",
       "4             5.0          3.6           1.4          0.2     setosa\n",
       "..            ...          ...           ...          ...        ...\n",
       "145           6.7          3.0           5.2          2.3  virginica\n",
       "146           6.3          2.5           5.0          1.9  virginica\n",
       "147           6.5          3.0           5.2          2.0  virginica\n",
       "148           6.2          3.4           5.4          2.3  virginica\n",
       "149           5.9          3.0           5.1          1.8  virginica\n",
       "\n",
       "[150 rows x 5 columns]"
      ]
     },
     "execution_count": 3,
     "metadata": {},
     "output_type": "execute_result"
    }
   ],
   "source": [
    "iris"
   ]
  },
  {
   "cell_type": "code",
   "execution_count": 56,
   "id": "2e41ee85-ca53-4d27-bc60-3f3cc1881f21",
   "metadata": {},
   "outputs": [
    {
     "data": {
      "text/plain": [
       "<Axes: >"
      ]
     },
     "execution_count": 56,
     "metadata": {},
     "output_type": "execute_result"
    },
    {
     "data": {
      "image/png": "[encoded data removed]",
      "text/plain": [
       "<Figure size 640x480 with 1 Axes>"
      ]
     },
     "metadata": {},
     "output_type": "display_data"
    }
   ],
   "source": [
    "iris.plot()"
   ]
  },
  {
   "cell_type": "code",
   "execution_count": 13,
   "id": "a3c46092-adec-4b7f-a28f-31aa061e5f39",
   "metadata": {},
   "outputs": [
    {
     "data": {
      "text/plain": [
       "<Axes: xlabel='sepal_length', ylabel='petal_width'>"
      ]
     },
     "execution_count": 13,
     "metadata": {},
     "output_type": "execute_result"
    },
    {
     "data": {
      "image/png": "[encoded data removed]",
      "text/plain": [
       "<Figure size 640x480 with 1 Axes>"
      ]
     },
     "metadata": {},
     "output_type": "display_data"
    }
   ],
   "source": [
    "sns.barplot(data=iris[sepal_length<1], x=\"sepal_length\",y=\"petal_width\")"
   ]
  },
  {
   "cell_type": "code",
   "execution_count": 54,
   "id": "d36d6ae0-3844-4f78-9daa-079cae98e173",
   "metadata": {},
   "outputs": [
    {
     "data": {
      "text/plain": [
       "<Axes: xlabel='species', ylabel='count'>"
      ]
     },
     "execution_count": 54,
     "metadata": {},
     "output_type": "execute_result"
    },
    {
     "data": {
      "image/png": "[encoded data removed]",
      "text/plain": [
       "<Figure size 640x480 with 1 Axes>"
      ]
     },
     "metadata": {},
     "output_type": "display_data"
    }
   ],
   "source": [
    "sns.countplot(x='species',data=iris, hue=\"petal_length\", palette=\"rainbow\")"
   ]
  },
  {
   "cell_type": "code",
   "execution_count": 34,
   "id": "b3bc9039-38b3-4c0f-8547-16d99d8ffb1e",
   "metadata": {},
   "outputs": [
    {
     "data": {
      "text/plain": [
       "<Axes: xlabel='species', ylabel='sepal_width'>"
      ]
     },
     "execution_count": 34,
     "metadata": {},
     "output_type": "execute_result"
    },
    {
     "data": {
      "image/png": "[encoded data removed]",
      "text/plain": [
       "<Figure size 640x480 with 1 Axes>"
      ]
     },
     "metadata": {},
     "output_type": "display_data"
    }
   ],
   "source": [
    "sns.barplot(x=\"species\",y=\"sepal_width\",data=iris)"
   ]
  },
  {
   "cell_type": "code",
   "execution_count": 51,
   "id": "d4249d0a-f0df-4c5e-8ad8-89e02c34d598",
   "metadata": {},
   "outputs": [
    {
     "data": {
      "text/plain": [
       "<Axes: xlabel='species', ylabel='petal_length'>"
      ]
     },
     "execution_count": 51,
     "metadata": {},
     "output_type": "execute_result"
    },
    {
     "data": {
      "image/png": "[encoded data removed]",
      "text/plain": [
       "<Figure size 640x480 with 1 Axes>"
      ]
     },
     "metadata": {},
     "output_type": "display_data"
    }
   ],
   "source": [
    "sns.boxplot(x=\"species\",y=\"petal_length\",data=iris, palette=\"rainbow\", hue=\"sepal_width\")"
   ]
  },
  {
   "cell_type": "code",
   "execution_count": 48,
   "id": "96ba2a8e-95c3-4e3d-96c7-31c873a69d00",
   "metadata": {},
   "outputs": [
    {
     "data": {
      "text/plain": [
       "<Axes: >"
      ]
     },
     "execution_count": 48,
     "metadata": {},
     "output_type": "execute_result"
    },
    {
     "data": {
      "image/png": "[encoded data removed]",
      "text/plain": [
       "<Figure size 640x480 with 1 Axes>"
      ]
     },
     "metadata": {},
     "output_type": "display_data"
    }
   ],
   "source": [
    "sns.boxplot(data=iris)"
   ]
  },
  {
   "cell_type": "code",
   "execution_count": 50,
   "id": "c9cd289a-93d2-421d-b2ef-f5a18bb268a7",
   "metadata": {},
   "outputs": [
    {
     "data": {
      "text/plain": [
       "<Axes: >"
      ]
     },
     "execution_count": 50,
     "metadata": {},
     "output_type": "execute_result"
    },
    {
     "data": {
      "image/png": "[encoded data removed]",
      "text/plain": [
       "<Figure size 640x480 with 1 Axes>"
      ]
     },
     "metadata": {},
     "output_type": "display_data"
    }
   ],
   "source": [
    "sns.boxplot(data=iris,orient='h')"
   ]
  },
  {
   "cell_type": "code",
   "execution_count": 64,
   "id": "17b79eb9-d6a9-4b06-891a-94763d03bdde",
   "metadata": {},
   "outputs": [
    {
     "data": {
      "text/plain": [
       "<seaborn.axisgrid.JointGrid at 0x179395af0>"
      ]
     },
     "execution_count": 64,
     "metadata": {},
     "output_type": "execute_result"
    },
    {
     "data": {
      "image/png": "[encoded data removed]",
      "text/plain": [
       "<Figure size 600x600 with 3 Axes>"
      ]
     },
     "metadata": {},
     "output_type": "display_data"
    }
   ],
   "source": [
    " sns.jointplot(x=\"petal_width\",y=\"petal_length\",data=iris)"
   ]
  },
  {
   "cell_type": "code",
   "execution_count": 65,
   "id": "706899f1-ffd2-412e-a0a4-210551703aae",
   "metadata": {},
   "outputs": [],
   "source": [
    "df=sns.load_dataset('tips')"
   ]
  },
  {
   "cell_type": "code",
   "execution_count": 68,
   "id": "1979c572-f6ea-4a5a-b3c2-31ec58b6fced",
   "metadata": {},
   "outputs": [
    {
     "data": {
      "text/html": [
       "<div>\n",
       "<style scoped>\n",
       "    .dataframe tbody tr th:only-of-type {\n",
       "        vertical-align: middle;\n",
       "    }\n",
       "\n",
       "    .dataframe tbody tr th {\n",
       "        vertical-align: top;\n",
       "    }\n",
       "\n",
       "    .dataframe thead th {\n",
       "        text-align: right;\n",
       "    }\n",
       "</style>\n",
       "<table border=\"1\" class=\"dataframe\">\n",
       "  <thead>\n",
       "    <tr style=\"text-align: right;\">\n",
       "      <th></th>\n",
       "      <th>total_bill</th>\n",
       "      <th>tip</th>\n",
       "      <th>sex</th>\n",
       "      <th>smoker</th>\n",
       "      <th>day</th>\n",
       "      <th>time</th>\n",
       "      <th>size</th>\n",
       "    </tr>\n",
       "  </thead>\n",
       "  <tbody>\n",
       "    <tr>\n",
       "      <th>0</th>\n",
       "      <td>16.99</td>\n",
       "      <td>1.01</td>\n",
       "      <td>Female</td>\n",
       "      <td>No</td>\n",
       "      <td>Sun</td>\n",
       "      <td>Dinner</td>\n",
       "      <td>2</td>\n",
       "    </tr>\n",
       "    <tr>\n",
       "      <th>1</th>\n",
       "      <td>10.34</td>\n",
       "      <td>1.66</td>\n",
       "      <td>Male</td>\n",
       "      <td>No</td>\n",
       "      <td>Sun</td>\n",
       "      <td>Dinner</td>\n",
       "      <td>3</td>\n",
       "    </tr>\n",
       "    <tr>\n",
       "      <th>2</th>\n",
       "      <td>21.01</td>\n",
       "      <td>3.50</td>\n",
       "      <td>Male</td>\n",
       "      <td>No</td>\n",
       "      <td>Sun</td>\n",
       "      <td>Dinner</td>\n",
       "      <td>3</td>\n",
       "    </tr>\n",
       "    <tr>\n",
       "      <th>3</th>\n",
       "      <td>23.68</td>\n",
       "      <td>3.31</td>\n",
       "      <td>Male</td>\n",
       "      <td>No</td>\n",
       "      <td>Sun</td>\n",
       "      <td>Dinner</td>\n",
       "      <td>2</td>\n",
       "    </tr>\n",
       "    <tr>\n",
       "      <th>4</th>\n",
       "      <td>24.59</td>\n",
       "      <td>3.61</td>\n",
       "      <td>Female</td>\n",
       "      <td>No</td>\n",
       "      <td>Sun</td>\n",
       "      <td>Dinner</td>\n",
       "      <td>4</td>\n",
       "    </tr>\n",
       "  </tbody>\n",
       "</table>\n",
       "</div>"
      ],
      "text/plain": [
       "   total_bill   tip     sex smoker  day    time  size\n",
       "0       16.99  1.01  Female     No  Sun  Dinner     2\n",
       "1       10.34  1.66    Male     No  Sun  Dinner     3\n",
       "2       21.01  3.50    Male     No  Sun  Dinner     3\n",
       "3       23.68  3.31    Male     No  Sun  Dinner     2\n",
       "4       24.59  3.61  Female     No  Sun  Dinner     4"
      ]
     },
     "execution_count": 68,
     "metadata": {},
     "output_type": "execute_result"
    }
   ],
   "source": [
    "df.head()"
   ]
  },
  {
   "cell_type": "code",
   "execution_count": 69,
   "id": "26b658f2-1662-4ca4-ae23-78ec10f964f7",
   "metadata": {},
   "outputs": [],
   "source": [
    "import pickle"
   ]
  },
  {
   "cell_type": "code",
   "execution_count": 72,
   "id": "a464a400-0e53-49bd-875b-8294233bcc2c",
   "metadata": {},
   "outputs": [],
   "source": [
    "filename='file.pkl'"
   ]
  },
  {
   "cell_type": "code",
   "execution_count": 74,
   "id": "4b4691ef-8022-415e-ae75-fb34e6d5df30",
   "metadata": {},
   "outputs": [],
   "source": [
    "# serialized process\n",
    "pickle.dump(df,open(filename,'wb')) "
   ]
  },
  {
   "cell_type": "code",
   "execution_count": 75,
   "id": "f142f4ed-a8b1-40ab-96a7-895da722897d",
   "metadata": {},
   "outputs": [],
   "source": [
    "# unserialized process\n",
    "df=pickle.load(open(filename,'rb'))"
   ]
  },
  {
   "cell_type": "code",
   "execution_count": 76,
   "id": "c40707ba-4036-4671-bac6-baccfdedbf42",
   "metadata": {},
   "outputs": [
    {
     "data": {
      "text/html": [
       "<div>\n",
       "<style scoped>\n",
       "    .dataframe tbody tr th:only-of-type {\n",
       "        vertical-align: middle;\n",
       "    }\n",
       "\n",
       "    .dataframe tbody tr th {\n",
       "        vertical-align: top;\n",
       "    }\n",
       "\n",
       "    .dataframe thead th {\n",
       "        text-align: right;\n",
       "    }\n",
       "</style>\n",
       "<table border=\"1\" class=\"dataframe\">\n",
       "  <thead>\n",
       "    <tr style=\"text-align: right;\">\n",
       "      <th></th>\n",
       "      <th>total_bill</th>\n",
       "      <th>tip</th>\n",
       "      <th>sex</th>\n",
       "      <th>smoker</th>\n",
       "      <th>day</th>\n",
       "      <th>time</th>\n",
       "      <th>size</th>\n",
       "    </tr>\n",
       "  </thead>\n",
       "  <tbody>\n",
       "    <tr>\n",
       "      <th>0</th>\n",
       "      <td>16.99</td>\n",
       "      <td>1.01</td>\n",
       "      <td>Female</td>\n",
       "      <td>No</td>\n",
       "      <td>Sun</td>\n",
       "      <td>Dinner</td>\n",
       "      <td>2</td>\n",
       "    </tr>\n",
       "    <tr>\n",
       "      <th>1</th>\n",
       "      <td>10.34</td>\n",
       "      <td>1.66</td>\n",
       "      <td>Male</td>\n",
       "      <td>No</td>\n",
       "      <td>Sun</td>\n",
       "      <td>Dinner</td>\n",
       "      <td>3</td>\n",
       "    </tr>\n",
       "    <tr>\n",
       "      <th>2</th>\n",
       "      <td>21.01</td>\n",
       "      <td>3.50</td>\n",
       "      <td>Male</td>\n",
       "      <td>No</td>\n",
       "      <td>Sun</td>\n",
       "      <td>Dinner</td>\n",
       "      <td>3</td>\n",
       "    </tr>\n",
       "    <tr>\n",
       "      <th>3</th>\n",
       "      <td>23.68</td>\n",
       "      <td>3.31</td>\n",
       "      <td>Male</td>\n",
       "      <td>No</td>\n",
       "      <td>Sun</td>\n",
       "      <td>Dinner</td>\n",
       "      <td>2</td>\n",
       "    </tr>\n",
       "    <tr>\n",
       "      <th>4</th>\n",
       "      <td>24.59</td>\n",
       "      <td>3.61</td>\n",
       "      <td>Female</td>\n",
       "      <td>No</td>\n",
       "      <td>Sun</td>\n",
       "      <td>Dinner</td>\n",
       "      <td>4</td>\n",
       "    </tr>\n",
       "    <tr>\n",
       "      <th>...</th>\n",
       "      <td>...</td>\n",
       "      <td>...</td>\n",
       "      <td>...</td>\n",
       "      <td>...</td>\n",
       "      <td>...</td>\n",
       "      <td>...</td>\n",
       "      <td>...</td>\n",
       "    </tr>\n",
       "    <tr>\n",
       "      <th>239</th>\n",
       "      <td>29.03</td>\n",
       "      <td>5.92</td>\n",
       "      <td>Male</td>\n",
       "      <td>No</td>\n",
       "      <td>Sat</td>\n",
       "      <td>Dinner</td>\n",
       "      <td>3</td>\n",
       "    </tr>\n",
       "    <tr>\n",
       "      <th>240</th>\n",
       "      <td>27.18</td>\n",
       "      <td>2.00</td>\n",
       "      <td>Female</td>\n",
       "      <td>Yes</td>\n",
       "      <td>Sat</td>\n",
       "      <td>Dinner</td>\n",
       "      <td>2</td>\n",
       "    </tr>\n",
       "    <tr>\n",
       "      <th>241</th>\n",
       "      <td>22.67</td>\n",
       "      <td>2.00</td>\n",
       "      <td>Male</td>\n",
       "      <td>Yes</td>\n",
       "      <td>Sat</td>\n",
       "      <td>Dinner</td>\n",
       "      <td>2</td>\n",
       "    </tr>\n",
       "    <tr>\n",
       "      <th>242</th>\n",
       "      <td>17.82</td>\n",
       "      <td>1.75</td>\n",
       "      <td>Male</td>\n",
       "      <td>No</td>\n",
       "      <td>Sat</td>\n",
       "      <td>Dinner</td>\n",
       "      <td>2</td>\n",
       "    </tr>\n",
       "    <tr>\n",
       "      <th>243</th>\n",
       "      <td>18.78</td>\n",
       "      <td>3.00</td>\n",
       "      <td>Female</td>\n",
       "      <td>No</td>\n",
       "      <td>Thur</td>\n",
       "      <td>Dinner</td>\n",
       "      <td>2</td>\n",
       "    </tr>\n",
       "  </tbody>\n",
       "</table>\n",
       "<p>244 rows × 7 columns</p>\n",
       "</div>"
      ],
      "text/plain": [
       "     total_bill   tip     sex smoker   day    time  size\n",
       "0         16.99  1.01  Female     No   Sun  Dinner     2\n",
       "1         10.34  1.66    Male     No   Sun  Dinner     3\n",
       "2         21.01  3.50    Male     No   Sun  Dinner     3\n",
       "3         23.68  3.31    Male     No   Sun  Dinner     2\n",
       "4         24.59  3.61  Female     No   Sun  Dinner     4\n",
       "..          ...   ...     ...    ...   ...     ...   ...\n",
       "239       29.03  5.92    Male     No   Sat  Dinner     3\n",
       "240       27.18  2.00  Female    Yes   Sat  Dinner     2\n",
       "241       22.67  2.00    Male    Yes   Sat  Dinner     2\n",
       "242       17.82  1.75    Male     No   Sat  Dinner     2\n",
       "243       18.78  3.00  Female     No  Thur  Dinner     2\n",
       "\n",
       "[244 rows x 7 columns]"
      ]
     },
     "execution_count": 76,
     "metadata": {},
     "output_type": "execute_result"
    }
   ],
   "source": [
    "df"
   ]
  },
  {
   "cell_type": "code",
   "execution_count": 77,
   "id": "4e761dc3-a1aa-4369-a6a1-6d7f4bb8963f",
   "metadata": {},
   "outputs": [
    {
     "data": {
      "text/plain": [
       "pandas.core.frame.DataFrame"
      ]
     },
     "execution_count": 77,
     "metadata": {},
     "output_type": "execute_result"
    }
   ],
   "source": [
    "type(df)"
   ]
  },
  {
   "cell_type": "markdown",
   "id": "e3c72b5c-38bf-4d85-9c8a-0f20dbcd35c1",
   "metadata": {},
   "source": [
    "## MatplotLib"
   ]
  },
  {
   "cell_type": "code",
   "execution_count": 82,
   "id": "c00b3810-34ba-40af-9ec1-e18493d2284a",
   "metadata": {},
   "outputs": [],
   "source": [
    "import matplotlib.pyplot as plt\n",
    "%matplotlib inline"
   ]
  },
  {
   "cell_type": "code",
   "execution_count": 83,
   "id": "9e2464c3-b57c-4fa1-8f6b-458c06b82c7d",
   "metadata": {},
   "outputs": [],
   "source": [
    "import numpy as np"
   ]
  },
  {
   "cell_type": "code",
   "execution_count": 84,
   "id": "5aa54afb-a9da-499a-8d3a-766dbfd027ab",
   "metadata": {},
   "outputs": [],
   "source": [
    "x=np.arange(0,10)\n",
    "y=np.arange(11,21)"
   ]
  },
  {
   "cell_type": "code",
   "execution_count": 89,
   "id": "bc816a1b-d283-42fd-b7de-474eff08fddf",
   "metadata": {},
   "outputs": [
    {
     "data": {
      "text/plain": [
       "Text(0.5, 1.0, 'Graph in 2D')"
      ]
     },
     "execution_count": 89,
     "metadata": {},
     "output_type": "execute_result"
    },
    {
     "data": {
      "image/png": "[encoded data removed]",
      "text/plain": [
       "<Figure size 640x480 with 1 Axes>"
      ]
     },
     "metadata": {},
     "output_type": "display_data"
    }
   ],
   "source": [
    "plt.scatter(x,y,c='g')\n",
    "plt.xlabel('X axis')\n",
    "plt.ylabel('Y axis')\n",
    "plt.title('Graph in 2D')"
   ]
  },
  {
   "cell_type": "code",
   "execution_count": 93,
   "id": "6d87190a-b814-4416-b91c-9e4d8624862d",
   "metadata": {},
   "outputs": [],
   "source": [
    "y=x*x"
   ]
  },
  {
   "cell_type": "code",
   "execution_count": 114,
   "id": "790c632b-fc80-496f-9e8d-1392996c8508",
   "metadata": {
    "scrolled": true
   },
   "outputs": [
    {
     "data": {
      "text/plain": [
       "Text(0.5, 1.0, '2d Diagram')"
      ]
     },
     "execution_count": 114,
     "metadata": {},
     "output_type": "execute_result"
    },
    {
     "data": {
      "image/png": "[encoded data removed]",
      "text/plain": [
       "<Figure size 640x480 with 1 Axes>"
      ]
     },
     "metadata": {},
     "output_type": "display_data"
    }
   ],
   "source": [
    "plt.plot(x,y,'y*',linestyle='dashed',linewidth=\"2\",markersize=\"12\")\n",
    "plt.xlabel(\"X axis\")\n",
    "plt.ylabel(\"Y axis\")\n",
    "plt.title('2d Diagram')"
   ]
  },
  {
   "cell_type": "code",
   "execution_count": 118,
   "id": "a3da652a-03fe-4430-bb3b-b6119a86a812",
   "metadata": {},
   "outputs": [
    {
     "name": "stdout",
     "output_type": "stream",
     "text": [
      "zsh:1: no matches found: modin[ray]\n",
      "Note: you may need to restart the kernel to use updated packages.\n"
     ]
    }
   ],
   "source": [
    "pip install modin[ray]"
   ]
  },
  {
   "cell_type": "code",
   "execution_count": 3,
   "id": "3c23c3e1-e8a0-4a0b-8e13-77ee598e0f38",
   "metadata": {},
   "outputs": [
    {
     "name": "stdout",
     "output_type": "stream",
     "text": [
      "Collecting modin\n",
      "  Downloading modin-0.31.0-py3-none-any.whl.metadata (17 kB)\n",
      "Requirement already satisfied: pandas<2.3,>=2.2 in /opt/anaconda3/lib/python3.12/site-packages (from modin) (2.2.2)\n",
      "Requirement already satisfied: packaging>=21.0 in /opt/anaconda3/lib/python3.12/site-packages (from modin) (23.2)\n",
      "Requirement already satisfied: numpy>=1.22.4 in /opt/anaconda3/lib/python3.12/site-packages (from modin) (1.26.4)\n",
      "Requirement already satisfied: fsspec>=2022.11.0 in /opt/anaconda3/lib/python3.12/site-packages (from modin) (2024.3.1)\n",
      "Requirement already satisfied: psutil>=5.8.0 in /opt/anaconda3/lib/python3.12/site-packages (from modin) (5.9.0)\n",
      "Requirement already satisfied: python-dateutil>=2.8.2 in /opt/anaconda3/lib/python3.12/site-packages (from pandas<2.3,>=2.2->modin) (2.9.0.post0)\n",
      "Requirement already satisfied: pytz>=2020.1 in /opt/anaconda3/lib/python3.12/site-packages (from pandas<2.3,>=2.2->modin) (2024.1)\n",
      "Requirement already satisfied: tzdata>=2022.7 in /opt/anaconda3/lib/python3.12/site-packages (from pandas<2.3,>=2.2->modin) (2023.3)\n",
      "Requirement already satisfied: six>=1.5 in /opt/anaconda3/lib/python3.12/site-packages (from python-dateutil>=2.8.2->pandas<2.3,>=2.2->modin) (1.16.0)\n",
      "Downloading modin-0.31.0-py3-none-any.whl (1.0 MB)\n",
      "\u001b[2K   \u001b[38;2;114;156;31m━━━━━━━━━━━━━━━━━━━━━━━━━━━━━━━━━━━━━━━━\u001b[0m \u001b[32m1.0/1.0 MB\u001b[0m \u001b[31m5.7 MB/s\u001b[0m eta \u001b[36m0:00:00\u001b[0m MB/s\u001b[0m eta \u001b[36m0:00:01\u001b[0m:01\u001b[0m\n",
      "\u001b[?25hInstalling collected packages: modin\n",
      "Successfully installed modin-0.31.0\n",
      "Note: you may need to restart the kernel to use updated packages.\n"
     ]
    }
   ],
   "source": [
    "pip install modin"
   ]
  },
  {
   "cell_type": "code",
   "execution_count": 1,
   "id": "8d06d52c-90d1-47fd-96c9-d9dd6edd34e7",
   "metadata": {},
   "outputs": [
    {
     "ename": "NameError",
     "evalue": "name 'modin' is not defined",
     "output_type": "error",
     "traceback": [
      "\u001b[0;31m---------------------------------------------------------------------------\u001b[0m",
      "\u001b[0;31mNameError\u001b[0m                                 Traceback (most recent call last)",
      "Cell \u001b[0;32mIn[1], line 1\u001b[0m\n\u001b[0;32m----> 1\u001b[0m modin\n",
      "\u001b[0;31mNameError\u001b[0m: name 'modin' is not defined"
     ]
    }
   ],
   "source": [
    "modin"
   ]
  },
  {
   "cell_type": "code",
   "execution_count": 2,
   "id": "c9d127e1-6de4-4284-b334-ad7701447886",
   "metadata": {},
   "outputs": [],
   "source": [
    "import modin.pandas as pd"
   ]
  },
  {
   "cell_type": "markdown",
   "id": "31153530-9079-4f9b-9dfe-a565547a7f9d",
   "metadata": {},
   "source": [
    "### Functions in Python"
   ]
  },
  {
   "cell_type": "code",
   "execution_count": 1,
   "id": "68bb4f06-fc26-41f4-b3ee-ffa98945b5e6",
   "metadata": {},
   "outputs": [],
   "source": [
    "def sample()->str:\n",
    "    return \"1\""
   ]
  },
  {
   "cell_type": "code",
   "execution_count": 2,
   "id": "37580480-09d1-40c9-acfa-bc0e87ea5774",
   "metadata": {},
   "outputs": [
    {
     "name": "stdout",
     "output_type": "stream",
     "text": [
      "1\n"
     ]
    }
   ],
   "source": [
    "print(sample())"
   ]
  },
  {
   "cell_type": "code",
   "execution_count": 76,
   "id": "badd6e34-53ad-4bd4-9d2d-1317344e6a33",
   "metadata": {},
   "outputs": [],
   "source": [
    "class car:\n",
    "    def __init__(self,windows1,gates1):\n",
    "        self.windows=windows1\n",
    "        self.gates=gates1\n",
    "    def f1(self):\n",
    "        print(\"car class\")"
   ]
  },
  {
   "cell_type": "code",
   "execution_count": 46,
   "id": "ca0483b2-6c7d-40fd-8431-c39c0704d184",
   "metadata": {},
   "outputs": [],
   "source": [
    "c1=car(4,gates1=2)\n",
    "c1.engine='petrol'"
   ]
  },
  {
   "cell_type": "code",
   "execution_count": 47,
   "id": "593c45ce-9afc-47c5-8394-c87866deb04e",
   "metadata": {},
   "outputs": [
    {
     "name": "stdout",
     "output_type": "stream",
     "text": [
      "windows=4\n"
     ]
    }
   ],
   "source": [
    "print(\"windows={}\".format(c1.windows))"
   ]
  },
  {
   "cell_type": "code",
   "execution_count": 39,
   "id": "0e60dc51-11c3-4e71-84d6-5934d880cc4c",
   "metadata": {},
   "outputs": [
    {
     "name": "stdout",
     "output_type": "stream",
     "text": [
      "petrol\n"
     ]
    }
   ],
   "source": [
    "print(c1.engine)"
   ]
  },
  {
   "cell_type": "code",
   "execution_count": 85,
   "id": "6f765270-2e2a-4f4b-b426-ed0532489ba0",
   "metadata": {},
   "outputs": [],
   "source": [
    "class Audi(car):\n",
    "    def __init__(self,windows1,gates1,speed):\n",
    "        super().__init__(windows1,gates1)\n",
    "        self.speed=speed\n",
    "    def f1(self):\n",
    "        print('audi class')"
   ]
  },
  {
   "cell_type": "code",
   "execution_count": 86,
   "id": "ded92734-7578-457e-8511-b88fa3774368",
   "metadata": {},
   "outputs": [
    {
     "name": "stdout",
     "output_type": "stream",
     "text": [
      "audi class\n",
      "None\n"
     ]
    }
   ],
   "source": [
    "c2=Audi(4,8,200)\n",
    "print(c2.f1())"
   ]
  },
  {
   "cell_type": "code",
   "execution_count": 61,
   "id": "a0a5d2fe-ce79-4eea-9b41-660812ba33a6",
   "metadata": {},
   "outputs": [],
   "source": [
    "class BMW(car):\n",
    "    pass"
   ]
  },
  {
   "cell_type": "code",
   "execution_count": 63,
   "id": "8abd9049-a253-4b96-a2ca-07169bd54748",
   "metadata": {},
   "outputs": [],
   "source": [
    "c3=BMW(10,19)"
   ]
  },
  {
   "cell_type": "code",
   "execution_count": 73,
   "id": "dedf1b27-f535-46bf-bc0e-507904419f79",
   "metadata": {},
   "outputs": [
    {
     "ename": "TypeError",
     "evalue": "car.f1() takes 0 positional arguments but 1 was given",
     "output_type": "error",
     "traceback": [
      "\u001b[0;31m---------------------------------------------------------------------------\u001b[0m",
      "\u001b[0;31mTypeError\u001b[0m                                 Traceback (most recent call last)",
      "Cell \u001b[0;32mIn[73], line 1\u001b[0m\n\u001b[0;32m----> 1\u001b[0m c3\u001b[38;5;241m.\u001b[39mf1()\n",
      "\u001b[0;31mTypeError\u001b[0m: car.f1() takes 0 positional arguments but 1 was given"
     ]
    }
   ],
   "source": [
    "c3.f1()"
   ]
  },
  {
   "cell_type": "markdown",
   "id": "fc6b8039-ce6d-42f2-b0c7-f3bc9a32fbbe",
   "metadata": {},
   "source": [
    "### List comprehension"
   ]
  },
  {
   "cell_type": "code",
   "execution_count": 1,
   "id": "71ebd896-4c0e-48ca-90e5-59425c48bb60",
   "metadata": {},
   "outputs": [
    {
     "data": {
      "text/plain": [
       "[1, 4, 9, 16, 25, 36]"
      ]
     },
     "execution_count": 1,
     "metadata": {},
     "output_type": "execute_result"
    }
   ],
   "source": [
    "lst1=[1,2,3,4,5,6]\n",
    "lst2=[i**2 for i in lst1]\n",
    "lst2"
   ]
  },
  {
   "cell_type": "code",
   "execution_count": 5,
   "id": "19d65764-a3f5-4b25-822c-210899fd3c07",
   "metadata": {},
   "outputs": [
    {
     "data": {
      "text/plain": [
       "[2, 4, 6, 8, 10]"
      ]
     },
     "execution_count": 5,
     "metadata": {},
     "output_type": "execute_result"
    }
   ],
   "source": [
    "#Filtering even num from list:\n",
    "lst=[1,2,3,4,5,6,7,8,9,10]\n",
    "even_num=[i for i in lst if i%2==0]\n",
    "even_num"
   ]
  },
  {
   "cell_type": "code",
   "execution_count": 7,
   "id": "950212ff-6a97-4c49-ab83-c6fffb24d22c",
   "metadata": {},
   "outputs": [
    {
     "data": {
      "text/plain": [
       "[1, 2, 3, 4, 5, 6]"
      ]
     },
     "execution_count": 7,
     "metadata": {},
     "output_type": "execute_result"
    }
   ],
   "source": [
    "#Flattening a list of list:\n",
    "lists=[[1,2,3],[4,5,6]]\n",
    "lst=[i for sublist in lists for i in sublist]\n",
    "lst"
   ]
  },
  {
   "cell_type": "code",
   "execution_count": 8,
   "id": "117fdf70-e7d3-41f7-a308-cb6ffcd1285f",
   "metadata": {},
   "outputs": [
    {
     "data": {
      "text/plain": [
       "['a', 'b', 'c', 'd']"
      ]
     },
     "execution_count": 8,
     "metadata": {},
     "output_type": "execute_result"
    }
   ],
   "source": [
    "#Generating a list of the first letters of words in a list:\n",
    "words=[\"apple\",\"banana\",'cherry','date']\n",
    "lst=[i[0] for i in words]\n",
    "lst"
   ]
  },
  {
   "cell_type": "code",
   "execution_count": 9,
   "id": "eefa9013-dc64-4c45-8204-2e001d40be8f",
   "metadata": {},
   "outputs": [
    {
     "name": "stdout",
     "output_type": "stream",
     "text": [
      "[4, 16, 36, 64, 100]\n"
     ]
    }
   ],
   "source": [
    "#Generating a list of the squares of even numbers:\n",
    "num=[1,2,3,4,5,6,7,8,9,10]\n",
    "lst=[i**2 for i in num if i%2==0]\n",
    "print(lst)"
   ]
  },
  {
   "cell_type": "code",
   "execution_count": 15,
   "id": "98cc8caa-1c9c-4f80-8de0-fbaf2b99a3a6",
   "metadata": {},
   "outputs": [
    {
     "name": "stdout",
     "output_type": "stream",
     "text": [
      "[1, 2, 3, 4, 5]\n"
     ]
    }
   ],
   "source": [
    "#Converting a list of strings to a list of integers:\n",
    "strings=['1','2','3','4','5']\n",
    "lst=[int(i) for i in strings]\n",
    "print(lst)"
   ]
  },
  {
   "cell_type": "code",
   "execution_count": 16,
   "id": "d2c1e2af-258b-4780-922c-d74f03bf5f86",
   "metadata": {},
   "outputs": [
    {
     "name": "stdout",
     "output_type": "stream",
     "text": [
      "[1, 2, 3, 4, 6, 9, 12, 18, 36]\n"
     ]
    }
   ],
   "source": [
    "#Generating a list of all the divisors of a number:\n",
    "num=36\n",
    "lst=[i for i in range(1,num+1) if num%i==0]\n",
    "print(lst)"
   ]
  },
  {
   "cell_type": "markdown",
   "id": "80e50ee2-cc41-4d72-be92-92f9d9f05888",
   "metadata": {},
   "source": [
    "### Lamda Functions"
   ]
  },
  {
   "cell_type": "code",
   "execution_count": 17,
   "id": "4df58ba9-a5e5-491f-a8f1-690c8b484625",
   "metadata": {},
   "outputs": [
    {
     "data": {
      "text/plain": [
       "12"
      ]
     },
     "execution_count": 17,
     "metadata": {},
     "output_type": "execute_result"
    }
   ],
   "source": [
    "f=lambda x,y:x*y\n",
    "f(3,4)"
   ]
  },
  {
   "cell_type": "code",
   "execution_count": 20,
   "id": "dd829e4c-2a0b-4b41-b935-60f9f6073d5f",
   "metadata": {},
   "outputs": [
    {
     "data": {
      "text/plain": [
       "5"
      ]
     },
     "execution_count": 20,
     "metadata": {},
     "output_type": "execute_result"
    }
   ],
   "source": [
    "##Return the length of the string\n",
    "f=lambda s:len(s)\n",
    "f(\"hello\")"
   ]
  },
  {
   "cell_type": "code",
   "execution_count": 23,
   "id": "6016f7de-12b9-4578-a0c6-57de4a2e31a1",
   "metadata": {},
   "outputs": [],
   "source": [
    "## converting a list of integers to their corresponding square values\n",
    "numbers=[1,2,3,4,5,6]\n",
    "sq_lst=list(map(lambda x:x**2,numbers))\n",
    "print(sq_lst)"
   ]
  },
  {
   "cell_type": "code",
   "execution_count": 30,
   "id": "d8482533-e0bf-420e-9b0a-c0cdf4878c4d",
   "metadata": {},
   "outputs": [
    {
     "name": "stdout",
     "output_type": "stream",
     "text": [
      "[False, True, False, True, False, True]\n"
     ]
    }
   ],
   "source": [
    "## Filter out even num from a list:\n",
    "numbers=[1,2,3,4,5,6]\n",
    "lst=list(map(lambda x:x%2==0,numbers))\n",
    "print(lst)"
   ]
  },
  {
   "cell_type": "code",
   "execution_count": 31,
   "id": "35e26dc8-b565-4a0f-870c-a161af943213",
   "metadata": {},
   "outputs": [],
   "source": [
    "def even(n):\n",
    "    if n%2==0:\n",
    "        return True"
   ]
  },
  {
   "cell_type": "code",
   "execution_count": 33,
   "id": "12992cfe-5d21-49ec-b075-bdc354291871",
   "metadata": {},
   "outputs": [
    {
     "data": {
      "text/plain": [
       "[None, True, None, True, None, True]"
      ]
     },
     "execution_count": 33,
     "metadata": {},
     "output_type": "execute_result"
    }
   ],
   "source": [
    "lst=[1,2,3,4,5,6]\n",
    "list(map(even,lst))"
   ]
  },
  {
   "cell_type": "code",
   "execution_count": 34,
   "id": "2e9f4022-87bb-4c5b-b2fc-9c0156356ada",
   "metadata": {},
   "outputs": [
    {
     "data": {
      "text/plain": [
       "[2, 4, 6]"
      ]
     },
     "execution_count": 34,
     "metadata": {},
     "output_type": "execute_result"
    }
   ],
   "source": [
    "list(filter(even,lst))"
   ]
  },
  {
   "cell_type": "code",
   "execution_count": 38,
   "id": "b01df283-bcf0-4b4a-b533-571669fed65e",
   "metadata": {},
   "outputs": [
    {
     "data": {
      "text/plain": [
       "['zery', 'date', 'apple']"
      ]
     },
     "execution_count": 38,
     "metadata": {},
     "output_type": "execute_result"
    }
   ],
   "source": [
    "fruits=['zery','date','apple']\n",
    "sorted(fruits,key=lambda x:len(x))"
   ]
  },
  {
   "cell_type": "markdown",
   "id": "a7c530a5-ea6f-4d24-903e-178faabb6c59",
   "metadata": {},
   "source": [
    "## Data Classes"
   ]
  },
  {
   "cell_type": "code",
   "execution_count": 39,
   "id": "f5f35117-06d0-4ece-a16c-3285add4a2f0",
   "metadata": {},
   "outputs": [],
   "source": [
    "from dataclasses import dataclass\n",
    "\n",
    "@dataclass\n",
    "class Person:\n",
    "    name:str\n",
    "    age:int\n",
    "    profession:str"
   ]
  },
  {
   "cell_type": "code",
   "execution_count": 41,
   "id": "5541d608-cdd2-4843-9293-7611f8f60799",
   "metadata": {},
   "outputs": [],
   "source": [
    "person1=Person('Alice',17,'SE')"
   ]
  },
  {
   "cell_type": "code",
   "execution_count": 43,
   "id": "3db2f392-ae64-47f1-b356-eb60849c1933",
   "metadata": {},
   "outputs": [
    {
     "data": {
      "text/plain": [
       "Person(name='Alice', age=17, profession='SE')"
      ]
     },
     "execution_count": 43,
     "metadata": {},
     "output_type": "execute_result"
    }
   ],
   "source": [
    "person1"
   ]
  },
  {
   "cell_type": "code",
   "execution_count": 57,
   "id": "a13dcc67-25b1-45bd-a8b2-dd819f68cc84",
   "metadata": {},
   "outputs": [],
   "source": [
    "@dataclass\n",
    "class Address:\n",
    "    street:str\n",
    "    city:str\n",
    "    zip_code:str\n",
    "\n",
    "@dataclass\n",
    "class Person:\n",
    "    name:str\n",
    "    age:str\n",
    "    address:Address"
   ]
  },
  {
   "cell_type": "code",
   "execution_count": 56,
   "id": "2bc1d9b2-9f3c-47db-aef3-9d9b1af90d1d",
   "metadata": {},
   "outputs": [
    {
     "ename": "TypeError",
     "evalue": "Person() takes no arguments",
     "output_type": "error",
     "traceback": [
      "\u001b[0;31m---------------------------------------------------------------------------\u001b[0m",
      "\u001b[0;31mTypeError\u001b[0m                                 Traceback (most recent call last)",
      "Cell \u001b[0;32mIn[56], line 2\u001b[0m\n\u001b[1;32m      1\u001b[0m address\u001b[38;5;241m=\u001b[39mAddress(\u001b[38;5;124m'\u001b[39m\u001b[38;5;124mmain street\u001b[39m\u001b[38;5;124m'\u001b[39m,\u001b[38;5;124m'\u001b[39m\u001b[38;5;124mBangalore\u001b[39m\u001b[38;5;124m'\u001b[39m,\u001b[38;5;124m'\u001b[39m\u001b[38;5;124m12345\u001b[39m\u001b[38;5;124m'\u001b[39m)\n\u001b[0;32m----> 2\u001b[0m person1\u001b[38;5;241m=\u001b[39mPerson(\u001b[38;5;124m'\u001b[39m\u001b[38;5;124mAlice\u001b[39m\u001b[38;5;124m'\u001b[39m,\u001b[38;5;241m31\u001b[39m,address)\n",
      "\u001b[0;31mTypeError\u001b[0m: Person() takes no arguments"
     ]
    }
   ],
   "source": [
    "address=Address('main street','Bangalore','12345')\n",
    "person1=Person('Alice',31,address)"
   ]
  },
  {
   "cell_type": "code",
   "execution_count": 52,
   "id": "477029c0-4262-4056-a1a4-398c161e8303",
   "metadata": {},
   "outputs": [
    {
     "data": {
      "text/plain": [
       "Person(name='Alice', age=31, address=Address(street='main street', city='Bangalore', zip_code='12345'))"
      ]
     },
     "execution_count": 52,
     "metadata": {},
     "output_type": "execute_result"
    }
   ],
   "source": [
    "person1"
   ]
  },
  {
   "cell_type": "markdown",
   "id": "62f1e2a6-db39-4335-a7b9-941dbf1d1eb2",
   "metadata": {},
   "source": [
    "## Encapsulation"
   ]
  },
  {
   "cell_type": "code",
   "execution_count": null,
   "id": "af449260-05e0-41ea-8e70-a9364395e550",
   "metadata": {},
   "outputs": [],
   "source": []
  }
 ],
 "metadata": {
  "kernelspec": {
   "display_name": "Python 3 (ipykernel)",
   "language": "python",
   "name": "python3"
  },
  "language_info": {
   "codemirror_mode": {
    "name": "ipython",
    "version": 3
   },
   "file_extension": ".py",
   "mimetype": "text/x-python",
   "name": "python",
   "nbconvert_exporter": "python",
   "pygments_lexer": "ipython3",
   "version": "3.12.4"
  }
 },
 "nbformat": 4,
 "nbformat_minor": 5
}
